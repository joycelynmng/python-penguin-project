{
 "cells": [
  {
   "cell_type": "markdown",
   "metadata": {
    "id": "jAH2eK-gD1Id"
   },
   "source": [
    "# Group Project\n",
    "###  Lina Molla, Joycelyn Ng\n"
   ]
  },
  {
   "cell_type": "markdown",
   "metadata": {
    "id": "kbulD9agEVCo"
   },
   "source": [
    "## Group Contributions Statement\n",
    "“All three of us wrote the data acquisition and preparation. Lina and Joyelyn cleaned most of the data. Lina created the summary tables and also the scatter plots in the EDA. Joycelyn created the boxplot visualizations in the EDA and conducted the Near Neighbor Classifiers Model. Sam created the histogram visualizations in the EDA which was then edited by Lina and Joycelyn. Joycelyn created the decision regions function and then implemented them into each of the models. Lina did the confusion matrices for each of the models. Lina and Joycelyn performed cross validations for each of the models. Sam helped with the Logistical Regression Model, but it was then completed by Lina and Joycelyn.\n",
    "\n",
    "Lina wrote the explanation of the visualizations, summary tables, feature selection, and cleaning/splitting of the data. Joycelyn wrote the explanation of the Decision Region Plot function and the SVM and Near Neighbor models, and Sam and Joycelyn wrote the explanation of the LR model and the discussion conclusion at the end. Joycelyn and Lina revised all of the descriptions and explainations and checked the whole file and made revisions to the code.”"
   ]
  },
  {
   "cell_type": "markdown",
   "metadata": {
    "id": "M0MjL_2rSxuv"
   },
   "source": [
    "## Data Import and Cleaning"
   ]
  },
  {
   "cell_type": "code",
   "execution_count": 1,
   "metadata": {
    "id": "9QKu9H-AEXMf"
   },
   "outputs": [],
   "source": [
    "import pandas as pd\n",
    "import numpy as np\n",
    "from sklearn import preprocessing\n",
    "from sklearn.model_selection import train_test_split\n",
    "from matplotlib import pyplot as plt\n",
    "import seaborn as sns\n",
    "from sklearn.model_selection import cross_val_score\n",
    "from sklearn.svm import SVC\n",
    "from sklearn.metrics import plot_confusion_matrix\n",
    "from sklearn.model_selection import RandomizedSearchCV\n",
    "from sklearn.neighbors import KNeighborsClassifier\n",
    "from sklearn.ensemble import RandomForestClassifier\n",
    "from sklearn.metrics import accuracy_score, confusion_matrix\n",
    "from sklearn.linear_model import LogisticRegression"
   ]
  },
  {
   "cell_type": "code",
   "execution_count": 2,
   "metadata": {
    "id": "J-hh4vLREm_p"
   },
   "outputs": [],
   "source": [
    "penguins = pd.read_csv('palmer_penguins.csv')"
   ]
  },
  {
   "cell_type": "code",
   "execution_count": 3,
   "metadata": {
    "colab": {
     "base_uri": "https://localhost:8080/",
     "height": 1000
    },
    "id": "rRVNXcmxEs0O",
    "outputId": "ce52ef65-fddb-4e58-d355-4d2056d64a4d"
   },
   "outputs": [
    {
     "data": {
      "text/html": [
       "<div>\n",
       "<style scoped>\n",
       "    .dataframe tbody tr th:only-of-type {\n",
       "        vertical-align: middle;\n",
       "    }\n",
       "\n",
       "    .dataframe tbody tr th {\n",
       "        vertical-align: top;\n",
       "    }\n",
       "\n",
       "    .dataframe thead th {\n",
       "        text-align: right;\n",
       "    }\n",
       "</style>\n",
       "<table border=\"1\" class=\"dataframe\">\n",
       "  <thead>\n",
       "    <tr style=\"text-align: right;\">\n",
       "      <th></th>\n",
       "      <th>studyName</th>\n",
       "      <th>Sample Number</th>\n",
       "      <th>Species</th>\n",
       "      <th>Region</th>\n",
       "      <th>Island</th>\n",
       "      <th>Stage</th>\n",
       "      <th>Individual ID</th>\n",
       "      <th>Clutch Completion</th>\n",
       "      <th>Date Egg</th>\n",
       "      <th>Culmen Length (mm)</th>\n",
       "      <th>Culmen Depth (mm)</th>\n",
       "      <th>Flipper Length (mm)</th>\n",
       "      <th>Body Mass (g)</th>\n",
       "      <th>Sex</th>\n",
       "      <th>Delta 15 N (o/oo)</th>\n",
       "      <th>Delta 13 C (o/oo)</th>\n",
       "      <th>Comments</th>\n",
       "    </tr>\n",
       "  </thead>\n",
       "  <tbody>\n",
       "    <tr>\n",
       "      <th>0</th>\n",
       "      <td>PAL0708</td>\n",
       "      <td>1</td>\n",
       "      <td>Adelie Penguin (Pygoscelis adeliae)</td>\n",
       "      <td>Anvers</td>\n",
       "      <td>Torgersen</td>\n",
       "      <td>Adult, 1 Egg Stage</td>\n",
       "      <td>N1A1</td>\n",
       "      <td>Yes</td>\n",
       "      <td>11/11/07</td>\n",
       "      <td>39.1</td>\n",
       "      <td>18.7</td>\n",
       "      <td>181.0</td>\n",
       "      <td>3750.0</td>\n",
       "      <td>MALE</td>\n",
       "      <td>NaN</td>\n",
       "      <td>NaN</td>\n",
       "      <td>Not enough blood for isotopes.</td>\n",
       "    </tr>\n",
       "    <tr>\n",
       "      <th>1</th>\n",
       "      <td>PAL0708</td>\n",
       "      <td>2</td>\n",
       "      <td>Adelie Penguin (Pygoscelis adeliae)</td>\n",
       "      <td>Anvers</td>\n",
       "      <td>Torgersen</td>\n",
       "      <td>Adult, 1 Egg Stage</td>\n",
       "      <td>N1A2</td>\n",
       "      <td>Yes</td>\n",
       "      <td>11/11/07</td>\n",
       "      <td>39.5</td>\n",
       "      <td>17.4</td>\n",
       "      <td>186.0</td>\n",
       "      <td>3800.0</td>\n",
       "      <td>FEMALE</td>\n",
       "      <td>8.94956</td>\n",
       "      <td>-24.69454</td>\n",
       "      <td>NaN</td>\n",
       "    </tr>\n",
       "    <tr>\n",
       "      <th>2</th>\n",
       "      <td>PAL0708</td>\n",
       "      <td>3</td>\n",
       "      <td>Adelie Penguin (Pygoscelis adeliae)</td>\n",
       "      <td>Anvers</td>\n",
       "      <td>Torgersen</td>\n",
       "      <td>Adult, 1 Egg Stage</td>\n",
       "      <td>N2A1</td>\n",
       "      <td>Yes</td>\n",
       "      <td>11/16/07</td>\n",
       "      <td>40.3</td>\n",
       "      <td>18.0</td>\n",
       "      <td>195.0</td>\n",
       "      <td>3250.0</td>\n",
       "      <td>FEMALE</td>\n",
       "      <td>8.36821</td>\n",
       "      <td>-25.33302</td>\n",
       "      <td>NaN</td>\n",
       "    </tr>\n",
       "    <tr>\n",
       "      <th>3</th>\n",
       "      <td>PAL0708</td>\n",
       "      <td>4</td>\n",
       "      <td>Adelie Penguin (Pygoscelis adeliae)</td>\n",
       "      <td>Anvers</td>\n",
       "      <td>Torgersen</td>\n",
       "      <td>Adult, 1 Egg Stage</td>\n",
       "      <td>N2A2</td>\n",
       "      <td>Yes</td>\n",
       "      <td>11/16/07</td>\n",
       "      <td>NaN</td>\n",
       "      <td>NaN</td>\n",
       "      <td>NaN</td>\n",
       "      <td>NaN</td>\n",
       "      <td>NaN</td>\n",
       "      <td>NaN</td>\n",
       "      <td>NaN</td>\n",
       "      <td>Adult not sampled.</td>\n",
       "    </tr>\n",
       "    <tr>\n",
       "      <th>4</th>\n",
       "      <td>PAL0708</td>\n",
       "      <td>5</td>\n",
       "      <td>Adelie Penguin (Pygoscelis adeliae)</td>\n",
       "      <td>Anvers</td>\n",
       "      <td>Torgersen</td>\n",
       "      <td>Adult, 1 Egg Stage</td>\n",
       "      <td>N3A1</td>\n",
       "      <td>Yes</td>\n",
       "      <td>11/16/07</td>\n",
       "      <td>36.7</td>\n",
       "      <td>19.3</td>\n",
       "      <td>193.0</td>\n",
       "      <td>3450.0</td>\n",
       "      <td>FEMALE</td>\n",
       "      <td>8.76651</td>\n",
       "      <td>-25.32426</td>\n",
       "      <td>NaN</td>\n",
       "    </tr>\n",
       "    <tr>\n",
       "      <th>...</th>\n",
       "      <td>...</td>\n",
       "      <td>...</td>\n",
       "      <td>...</td>\n",
       "      <td>...</td>\n",
       "      <td>...</td>\n",
       "      <td>...</td>\n",
       "      <td>...</td>\n",
       "      <td>...</td>\n",
       "      <td>...</td>\n",
       "      <td>...</td>\n",
       "      <td>...</td>\n",
       "      <td>...</td>\n",
       "      <td>...</td>\n",
       "      <td>...</td>\n",
       "      <td>...</td>\n",
       "      <td>...</td>\n",
       "      <td>...</td>\n",
       "    </tr>\n",
       "    <tr>\n",
       "      <th>339</th>\n",
       "      <td>PAL0910</td>\n",
       "      <td>120</td>\n",
       "      <td>Gentoo penguin (Pygoscelis papua)</td>\n",
       "      <td>Anvers</td>\n",
       "      <td>Biscoe</td>\n",
       "      <td>Adult, 1 Egg Stage</td>\n",
       "      <td>N38A2</td>\n",
       "      <td>No</td>\n",
       "      <td>12/1/09</td>\n",
       "      <td>NaN</td>\n",
       "      <td>NaN</td>\n",
       "      <td>NaN</td>\n",
       "      <td>NaN</td>\n",
       "      <td>NaN</td>\n",
       "      <td>NaN</td>\n",
       "      <td>NaN</td>\n",
       "      <td>NaN</td>\n",
       "    </tr>\n",
       "    <tr>\n",
       "      <th>340</th>\n",
       "      <td>PAL0910</td>\n",
       "      <td>121</td>\n",
       "      <td>Gentoo penguin (Pygoscelis papua)</td>\n",
       "      <td>Anvers</td>\n",
       "      <td>Biscoe</td>\n",
       "      <td>Adult, 1 Egg Stage</td>\n",
       "      <td>N39A1</td>\n",
       "      <td>Yes</td>\n",
       "      <td>11/22/09</td>\n",
       "      <td>46.8</td>\n",
       "      <td>14.3</td>\n",
       "      <td>215.0</td>\n",
       "      <td>4850.0</td>\n",
       "      <td>FEMALE</td>\n",
       "      <td>8.41151</td>\n",
       "      <td>-26.13832</td>\n",
       "      <td>NaN</td>\n",
       "    </tr>\n",
       "    <tr>\n",
       "      <th>341</th>\n",
       "      <td>PAL0910</td>\n",
       "      <td>122</td>\n",
       "      <td>Gentoo penguin (Pygoscelis papua)</td>\n",
       "      <td>Anvers</td>\n",
       "      <td>Biscoe</td>\n",
       "      <td>Adult, 1 Egg Stage</td>\n",
       "      <td>N39A2</td>\n",
       "      <td>Yes</td>\n",
       "      <td>11/22/09</td>\n",
       "      <td>50.4</td>\n",
       "      <td>15.7</td>\n",
       "      <td>222.0</td>\n",
       "      <td>5750.0</td>\n",
       "      <td>MALE</td>\n",
       "      <td>8.30166</td>\n",
       "      <td>-26.04117</td>\n",
       "      <td>NaN</td>\n",
       "    </tr>\n",
       "    <tr>\n",
       "      <th>342</th>\n",
       "      <td>PAL0910</td>\n",
       "      <td>123</td>\n",
       "      <td>Gentoo penguin (Pygoscelis papua)</td>\n",
       "      <td>Anvers</td>\n",
       "      <td>Biscoe</td>\n",
       "      <td>Adult, 1 Egg Stage</td>\n",
       "      <td>N43A1</td>\n",
       "      <td>Yes</td>\n",
       "      <td>11/22/09</td>\n",
       "      <td>45.2</td>\n",
       "      <td>14.8</td>\n",
       "      <td>212.0</td>\n",
       "      <td>5200.0</td>\n",
       "      <td>FEMALE</td>\n",
       "      <td>8.24246</td>\n",
       "      <td>-26.11969</td>\n",
       "      <td>NaN</td>\n",
       "    </tr>\n",
       "    <tr>\n",
       "      <th>343</th>\n",
       "      <td>PAL0910</td>\n",
       "      <td>124</td>\n",
       "      <td>Gentoo penguin (Pygoscelis papua)</td>\n",
       "      <td>Anvers</td>\n",
       "      <td>Biscoe</td>\n",
       "      <td>Adult, 1 Egg Stage</td>\n",
       "      <td>N43A2</td>\n",
       "      <td>Yes</td>\n",
       "      <td>11/22/09</td>\n",
       "      <td>49.9</td>\n",
       "      <td>16.1</td>\n",
       "      <td>213.0</td>\n",
       "      <td>5400.0</td>\n",
       "      <td>MALE</td>\n",
       "      <td>8.36390</td>\n",
       "      <td>-26.15531</td>\n",
       "      <td>NaN</td>\n",
       "    </tr>\n",
       "  </tbody>\n",
       "</table>\n",
       "<p>344 rows × 17 columns</p>\n",
       "</div>"
      ],
      "text/plain": [
       "    studyName  Sample Number                              Species  Region  \\\n",
       "0     PAL0708              1  Adelie Penguin (Pygoscelis adeliae)  Anvers   \n",
       "1     PAL0708              2  Adelie Penguin (Pygoscelis adeliae)  Anvers   \n",
       "2     PAL0708              3  Adelie Penguin (Pygoscelis adeliae)  Anvers   \n",
       "3     PAL0708              4  Adelie Penguin (Pygoscelis adeliae)  Anvers   \n",
       "4     PAL0708              5  Adelie Penguin (Pygoscelis adeliae)  Anvers   \n",
       "..        ...            ...                                  ...     ...   \n",
       "339   PAL0910            120    Gentoo penguin (Pygoscelis papua)  Anvers   \n",
       "340   PAL0910            121    Gentoo penguin (Pygoscelis papua)  Anvers   \n",
       "341   PAL0910            122    Gentoo penguin (Pygoscelis papua)  Anvers   \n",
       "342   PAL0910            123    Gentoo penguin (Pygoscelis papua)  Anvers   \n",
       "343   PAL0910            124    Gentoo penguin (Pygoscelis papua)  Anvers   \n",
       "\n",
       "        Island               Stage Individual ID Clutch Completion  Date Egg  \\\n",
       "0    Torgersen  Adult, 1 Egg Stage          N1A1               Yes  11/11/07   \n",
       "1    Torgersen  Adult, 1 Egg Stage          N1A2               Yes  11/11/07   \n",
       "2    Torgersen  Adult, 1 Egg Stage          N2A1               Yes  11/16/07   \n",
       "3    Torgersen  Adult, 1 Egg Stage          N2A2               Yes  11/16/07   \n",
       "4    Torgersen  Adult, 1 Egg Stage          N3A1               Yes  11/16/07   \n",
       "..         ...                 ...           ...               ...       ...   \n",
       "339     Biscoe  Adult, 1 Egg Stage         N38A2                No   12/1/09   \n",
       "340     Biscoe  Adult, 1 Egg Stage         N39A1               Yes  11/22/09   \n",
       "341     Biscoe  Adult, 1 Egg Stage         N39A2               Yes  11/22/09   \n",
       "342     Biscoe  Adult, 1 Egg Stage         N43A1               Yes  11/22/09   \n",
       "343     Biscoe  Adult, 1 Egg Stage         N43A2               Yes  11/22/09   \n",
       "\n",
       "     Culmen Length (mm)  Culmen Depth (mm)  Flipper Length (mm)  \\\n",
       "0                  39.1               18.7                181.0   \n",
       "1                  39.5               17.4                186.0   \n",
       "2                  40.3               18.0                195.0   \n",
       "3                   NaN                NaN                  NaN   \n",
       "4                  36.7               19.3                193.0   \n",
       "..                  ...                ...                  ...   \n",
       "339                 NaN                NaN                  NaN   \n",
       "340                46.8               14.3                215.0   \n",
       "341                50.4               15.7                222.0   \n",
       "342                45.2               14.8                212.0   \n",
       "343                49.9               16.1                213.0   \n",
       "\n",
       "     Body Mass (g)     Sex  Delta 15 N (o/oo)  Delta 13 C (o/oo)  \\\n",
       "0           3750.0    MALE                NaN                NaN   \n",
       "1           3800.0  FEMALE            8.94956          -24.69454   \n",
       "2           3250.0  FEMALE            8.36821          -25.33302   \n",
       "3              NaN     NaN                NaN                NaN   \n",
       "4           3450.0  FEMALE            8.76651          -25.32426   \n",
       "..             ...     ...                ...                ...   \n",
       "339            NaN     NaN                NaN                NaN   \n",
       "340         4850.0  FEMALE            8.41151          -26.13832   \n",
       "341         5750.0    MALE            8.30166          -26.04117   \n",
       "342         5200.0  FEMALE            8.24246          -26.11969   \n",
       "343         5400.0    MALE            8.36390          -26.15531   \n",
       "\n",
       "                           Comments  \n",
       "0    Not enough blood for isotopes.  \n",
       "1                               NaN  \n",
       "2                               NaN  \n",
       "3                Adult not sampled.  \n",
       "4                               NaN  \n",
       "..                              ...  \n",
       "339                             NaN  \n",
       "340                             NaN  \n",
       "341                             NaN  \n",
       "342                             NaN  \n",
       "343                             NaN  \n",
       "\n",
       "[344 rows x 17 columns]"
      ]
     },
     "execution_count": 3,
     "metadata": {},
     "output_type": "execute_result"
    }
   ],
   "source": [
    "penguins"
   ]
  },
  {
   "cell_type": "code",
   "execution_count": 4,
   "metadata": {
    "colab": {
     "base_uri": "https://localhost:8080/"
    },
    "id": "EBTFGunfIGXx",
    "outputId": "617da169-369d-4b53-f040-ff9ead346211"
   },
   "outputs": [
    {
     "name": "stdout",
     "output_type": "stream",
     "text": [
      "<class 'pandas.core.frame.DataFrame'>\n",
      "RangeIndex: 344 entries, 0 to 343\n",
      "Data columns (total 17 columns):\n",
      " #   Column               Non-Null Count  Dtype  \n",
      "---  ------               --------------  -----  \n",
      " 0   studyName            344 non-null    object \n",
      " 1   Sample Number        344 non-null    int64  \n",
      " 2   Species              344 non-null    object \n",
      " 3   Region               344 non-null    object \n",
      " 4   Island               344 non-null    object \n",
      " 5   Stage                344 non-null    object \n",
      " 6   Individual ID        344 non-null    object \n",
      " 7   Clutch Completion    344 non-null    object \n",
      " 8   Date Egg             344 non-null    object \n",
      " 9   Culmen Length (mm)   342 non-null    float64\n",
      " 10  Culmen Depth (mm)    342 non-null    float64\n",
      " 11  Flipper Length (mm)  342 non-null    float64\n",
      " 12  Body Mass (g)        342 non-null    float64\n",
      " 13  Sex                  334 non-null    object \n",
      " 14  Delta 15 N (o/oo)    330 non-null    float64\n",
      " 15  Delta 13 C (o/oo)    331 non-null    float64\n",
      " 16  Comments             26 non-null     object \n",
      "dtypes: float64(6), int64(1), object(10)\n",
      "memory usage: 45.8+ KB\n"
     ]
    }
   ],
   "source": [
    "penguins.info()"
   ]
  },
  {
   "cell_type": "code",
   "execution_count": 5,
   "metadata": {
    "id": "pKxW4GOlds3h"
   },
   "outputs": [],
   "source": [
    "def clean_penguins(data_df):\n",
    "    '''\n",
    "    Params: \n",
    "      data_df: the data set\n",
    "    Returns:\n",
    "      tthe cleaned data\n",
    "    '''\n",
    "    df = data_df.copy()\n",
    "\n",
    "    # shorten Species name\n",
    "    df[\"Species\"] = df[\"Species\"].str.split().str.get(0)\n",
    "    # get rid of random incorrect variable type in Sex\n",
    "    df = df[df['Sex'] != '.']\n",
    "    \n",
    "    # drop unnecessary columns\n",
    "    df = df.drop(['Sample Number', \n",
    "                  'Delta 15 N (o/oo)', \n",
    "                  'Delta 13 C (o/oo)', \n",
    "                  'Individual ID', \n",
    "                  'Comments', \n",
    "                  'Date Egg',\n",
    "                  'studyName', \n",
    "                  'Stage',\n",
    "                  'Clutch Completion',\n",
    "                  'Region'], axis = 1)\n",
    "    \n",
    "    # get rid of NaN values\n",
    "    df = df.dropna()\n",
    "\n",
    "    return df"
   ]
  },
  {
   "cell_type": "markdown",
   "metadata": {
    "id": "DemflcxoTMfn"
   },
   "source": [
    "First, we did an initial clean of the data in order to remove any unnecessary columns that we will not be examining. After dropping unnecessary columns, we were able to use dropna() to get rid of any NaN values. It is important to use dropna() after we have already examined the columns, determined which ones we will not be using, and determined where the NaN values are mostly coming from. If we use dropna() first, then one of the unnecessary columns may have had a lot of NaN values and caused a large amount of the observations to be dropped when in fact they do not have NaN values for the columns we want to examine. \n",
    "\n",
    "We chose to drop Delta 15 N and Delta 13 C from the beginning despite the fact that they are quantitative variables. This is due to the fact that they require further understanding that we do not want to examine when there are other more beneficial quantitative variables already available to use in this data set."
   ]
  },
  {
   "cell_type": "code",
   "execution_count": 6,
   "metadata": {
    "colab": {
     "base_uri": "https://localhost:8080/",
     "height": 424
    },
    "id": "qGETc8ppev5V",
    "outputId": "c35fa30a-b026-4431-cd5c-97c4413f5fdd"
   },
   "outputs": [
    {
     "data": {
      "text/html": [
       "<div>\n",
       "<style scoped>\n",
       "    .dataframe tbody tr th:only-of-type {\n",
       "        vertical-align: middle;\n",
       "    }\n",
       "\n",
       "    .dataframe tbody tr th {\n",
       "        vertical-align: top;\n",
       "    }\n",
       "\n",
       "    .dataframe thead th {\n",
       "        text-align: right;\n",
       "    }\n",
       "</style>\n",
       "<table border=\"1\" class=\"dataframe\">\n",
       "  <thead>\n",
       "    <tr style=\"text-align: right;\">\n",
       "      <th></th>\n",
       "      <th>Species</th>\n",
       "      <th>Island</th>\n",
       "      <th>Culmen Length (mm)</th>\n",
       "      <th>Culmen Depth (mm)</th>\n",
       "      <th>Flipper Length (mm)</th>\n",
       "      <th>Body Mass (g)</th>\n",
       "      <th>Sex</th>\n",
       "    </tr>\n",
       "  </thead>\n",
       "  <tbody>\n",
       "    <tr>\n",
       "      <th>0</th>\n",
       "      <td>Adelie</td>\n",
       "      <td>Torgersen</td>\n",
       "      <td>39.1</td>\n",
       "      <td>18.7</td>\n",
       "      <td>181.0</td>\n",
       "      <td>3750.0</td>\n",
       "      <td>MALE</td>\n",
       "    </tr>\n",
       "    <tr>\n",
       "      <th>1</th>\n",
       "      <td>Adelie</td>\n",
       "      <td>Torgersen</td>\n",
       "      <td>39.5</td>\n",
       "      <td>17.4</td>\n",
       "      <td>186.0</td>\n",
       "      <td>3800.0</td>\n",
       "      <td>FEMALE</td>\n",
       "    </tr>\n",
       "    <tr>\n",
       "      <th>2</th>\n",
       "      <td>Adelie</td>\n",
       "      <td>Torgersen</td>\n",
       "      <td>40.3</td>\n",
       "      <td>18.0</td>\n",
       "      <td>195.0</td>\n",
       "      <td>3250.0</td>\n",
       "      <td>FEMALE</td>\n",
       "    </tr>\n",
       "    <tr>\n",
       "      <th>4</th>\n",
       "      <td>Adelie</td>\n",
       "      <td>Torgersen</td>\n",
       "      <td>36.7</td>\n",
       "      <td>19.3</td>\n",
       "      <td>193.0</td>\n",
       "      <td>3450.0</td>\n",
       "      <td>FEMALE</td>\n",
       "    </tr>\n",
       "    <tr>\n",
       "      <th>5</th>\n",
       "      <td>Adelie</td>\n",
       "      <td>Torgersen</td>\n",
       "      <td>39.3</td>\n",
       "      <td>20.6</td>\n",
       "      <td>190.0</td>\n",
       "      <td>3650.0</td>\n",
       "      <td>MALE</td>\n",
       "    </tr>\n",
       "    <tr>\n",
       "      <th>...</th>\n",
       "      <td>...</td>\n",
       "      <td>...</td>\n",
       "      <td>...</td>\n",
       "      <td>...</td>\n",
       "      <td>...</td>\n",
       "      <td>...</td>\n",
       "      <td>...</td>\n",
       "    </tr>\n",
       "    <tr>\n",
       "      <th>338</th>\n",
       "      <td>Gentoo</td>\n",
       "      <td>Biscoe</td>\n",
       "      <td>47.2</td>\n",
       "      <td>13.7</td>\n",
       "      <td>214.0</td>\n",
       "      <td>4925.0</td>\n",
       "      <td>FEMALE</td>\n",
       "    </tr>\n",
       "    <tr>\n",
       "      <th>340</th>\n",
       "      <td>Gentoo</td>\n",
       "      <td>Biscoe</td>\n",
       "      <td>46.8</td>\n",
       "      <td>14.3</td>\n",
       "      <td>215.0</td>\n",
       "      <td>4850.0</td>\n",
       "      <td>FEMALE</td>\n",
       "    </tr>\n",
       "    <tr>\n",
       "      <th>341</th>\n",
       "      <td>Gentoo</td>\n",
       "      <td>Biscoe</td>\n",
       "      <td>50.4</td>\n",
       "      <td>15.7</td>\n",
       "      <td>222.0</td>\n",
       "      <td>5750.0</td>\n",
       "      <td>MALE</td>\n",
       "    </tr>\n",
       "    <tr>\n",
       "      <th>342</th>\n",
       "      <td>Gentoo</td>\n",
       "      <td>Biscoe</td>\n",
       "      <td>45.2</td>\n",
       "      <td>14.8</td>\n",
       "      <td>212.0</td>\n",
       "      <td>5200.0</td>\n",
       "      <td>FEMALE</td>\n",
       "    </tr>\n",
       "    <tr>\n",
       "      <th>343</th>\n",
       "      <td>Gentoo</td>\n",
       "      <td>Biscoe</td>\n",
       "      <td>49.9</td>\n",
       "      <td>16.1</td>\n",
       "      <td>213.0</td>\n",
       "      <td>5400.0</td>\n",
       "      <td>MALE</td>\n",
       "    </tr>\n",
       "  </tbody>\n",
       "</table>\n",
       "<p>333 rows × 7 columns</p>\n",
       "</div>"
      ],
      "text/plain": [
       "    Species     Island  Culmen Length (mm)  Culmen Depth (mm)  \\\n",
       "0    Adelie  Torgersen                39.1               18.7   \n",
       "1    Adelie  Torgersen                39.5               17.4   \n",
       "2    Adelie  Torgersen                40.3               18.0   \n",
       "4    Adelie  Torgersen                36.7               19.3   \n",
       "5    Adelie  Torgersen                39.3               20.6   \n",
       "..      ...        ...                 ...                ...   \n",
       "338  Gentoo     Biscoe                47.2               13.7   \n",
       "340  Gentoo     Biscoe                46.8               14.3   \n",
       "341  Gentoo     Biscoe                50.4               15.7   \n",
       "342  Gentoo     Biscoe                45.2               14.8   \n",
       "343  Gentoo     Biscoe                49.9               16.1   \n",
       "\n",
       "     Flipper Length (mm)  Body Mass (g)     Sex  \n",
       "0                  181.0         3750.0    MALE  \n",
       "1                  186.0         3800.0  FEMALE  \n",
       "2                  195.0         3250.0  FEMALE  \n",
       "4                  193.0         3450.0  FEMALE  \n",
       "5                  190.0         3650.0    MALE  \n",
       "..                   ...            ...     ...  \n",
       "338                214.0         4925.0  FEMALE  \n",
       "340                215.0         4850.0  FEMALE  \n",
       "341                222.0         5750.0    MALE  \n",
       "342                212.0         5200.0  FEMALE  \n",
       "343                213.0         5400.0    MALE  \n",
       "\n",
       "[333 rows x 7 columns]"
      ]
     },
     "execution_count": 6,
     "metadata": {},
     "output_type": "execute_result"
    }
   ],
   "source": [
    "penguins_clean = clean_penguins(penguins)\n",
    "penguins_clean"
   ]
  },
  {
   "cell_type": "markdown",
   "metadata": {
    "id": "Sl0WYpk6TvUN"
   },
   "source": [
    "Now, the penguins data set has been cleaned to an extent to be used for splitting and EDA."
   ]
  },
  {
   "cell_type": "code",
   "execution_count": 7,
   "metadata": {
    "colab": {
     "base_uri": "https://localhost:8080/"
    },
    "id": "mk74O6pmfW00",
    "outputId": "cf52516a-4fb2-4fea-9839-6198b4f3ab94"
   },
   "outputs": [
    {
     "data": {
      "text/plain": [
       "(333, 7)"
      ]
     },
     "execution_count": 7,
     "metadata": {},
     "output_type": "execute_result"
    }
   ],
   "source": [
    "penguins_clean.shape"
   ]
  },
  {
   "cell_type": "code",
   "execution_count": 8,
   "metadata": {
    "colab": {
     "base_uri": "https://localhost:8080/"
    },
    "id": "7_gZV7Uef7wR",
    "outputId": "9ffb87e4-016e-4489-9bae-0b6dd2b361b8"
   },
   "outputs": [
    {
     "data": {
      "text/plain": [
       "array(['MALE', 'FEMALE', nan, '.'], dtype=object)"
      ]
     },
     "execution_count": 8,
     "metadata": {},
     "output_type": "execute_result"
    }
   ],
   "source": [
    "penguins.Sex.unique()"
   ]
  },
  {
   "cell_type": "code",
   "execution_count": 9,
   "metadata": {
    "colab": {
     "base_uri": "https://localhost:8080/"
    },
    "id": "KSOVIIDQmJj4",
    "outputId": "9a6f4bc8-8944-45fb-8f79-dfb968a24fe7"
   },
   "outputs": [
    {
     "data": {
      "text/plain": [
       "array(['Anvers'], dtype=object)"
      ]
     },
     "execution_count": 9,
     "metadata": {},
     "output_type": "execute_result"
    }
   ],
   "source": [
    "penguins.Region.unique()"
   ]
  },
  {
   "cell_type": "markdown",
   "metadata": {
    "id": "HVi_wt2pmVof"
   },
   "source": [
    "As we can see here, Anvers is the only region that all of the penguin species are in within this data set, so we drop the Region column."
   ]
  },
  {
   "cell_type": "markdown",
   "metadata": {
    "id": "mb8hbfvmf1sF"
   },
   "source": [
    "There are 7 columns and 333 rows within this dataset now that we have done the initial cleaning."
   ]
  },
  {
   "cell_type": "markdown",
   "metadata": {
    "id": "-FxxseRW8C00"
   },
   "source": [
    "## Split into Test and Training Data"
   ]
  },
  {
   "cell_type": "code",
   "execution_count": 10,
   "metadata": {
    "colab": {
     "base_uri": "https://localhost:8080/"
    },
    "id": "h-cX7CWFHjyP",
    "outputId": "1025cf0d-a4b1-4ced-8f68-2a46f5650489"
   },
   "outputs": [
    {
     "data": {
      "text/plain": [
       "((266, 7), (67, 7))"
      ]
     },
     "execution_count": 10,
     "metadata": {},
     "output_type": "execute_result"
    }
   ],
   "source": [
    "np.random.seed(1234)\n",
    "train, test = train_test_split(penguins_clean, test_size = 0.2) # hold out 20% of the data\n",
    "train.shape, test.shape"
   ]
  },
  {
   "cell_type": "markdown",
   "metadata": {
    "id": "HuXFhIdEUBu3"
   },
   "source": [
    "Next, we need to split the data into a train and a test set so that we can create models on the training set in order to see how closely it will resemble the \"accuracy\" of the test set and/or the true population. In order to do this we want to hold out on 20% of the data so the test set is smaller than the training set. You want the training set to be larger to ensure a more accurate calculation of the performance of the model and then perform the test multiple time."
   ]
  },
  {
   "cell_type": "markdown",
   "metadata": {
    "id": "A887ANSk7nMI"
   },
   "source": [
    "## Exploratory Data Analysis"
   ]
  },
  {
   "cell_type": "markdown",
   "metadata": {
    "id": "QZuFePbgSR2N"
   },
   "source": [
    "In this section we performed data analysis through multiple charts and graphs including summary tables, histograms, scatter plots, and box plots. Through looking at these different visualizations we are able to determine which three variables that we should use for our modeling."
   ]
  },
  {
   "cell_type": "code",
   "execution_count": 11,
   "metadata": {
    "colab": {
     "base_uri": "https://localhost:8080/",
     "height": 677
    },
    "id": "-mXOyxmj88FR",
    "outputId": "ee7b4650-5c21-4e61-95ca-aefe5a2d580d"
   },
   "outputs": [
    {
     "data": {
      "text/html": [
       "<div>\n",
       "<style scoped>\n",
       "    .dataframe tbody tr th:only-of-type {\n",
       "        vertical-align: middle;\n",
       "    }\n",
       "\n",
       "    .dataframe tbody tr th {\n",
       "        vertical-align: top;\n",
       "    }\n",
       "\n",
       "    .dataframe thead th {\n",
       "        text-align: right;\n",
       "    }\n",
       "</style>\n",
       "<table border=\"1\" class=\"dataframe\">\n",
       "  <thead>\n",
       "    <tr style=\"text-align: right;\">\n",
       "      <th></th>\n",
       "      <th>Species</th>\n",
       "      <th>Island</th>\n",
       "      <th>Culmen Length (mm)</th>\n",
       "      <th>Culmen Depth (mm)</th>\n",
       "      <th>Flipper Length (mm)</th>\n",
       "      <th>Body Mass (g)</th>\n",
       "      <th>Sex</th>\n",
       "    </tr>\n",
       "  </thead>\n",
       "  <tbody>\n",
       "    <tr>\n",
       "      <th>7</th>\n",
       "      <td>Adelie</td>\n",
       "      <td>Torgersen</td>\n",
       "      <td>39.2</td>\n",
       "      <td>19.6</td>\n",
       "      <td>195.0</td>\n",
       "      <td>4675.0</td>\n",
       "      <td>MALE</td>\n",
       "    </tr>\n",
       "    <tr>\n",
       "      <th>264</th>\n",
       "      <td>Gentoo</td>\n",
       "      <td>Biscoe</td>\n",
       "      <td>50.5</td>\n",
       "      <td>15.9</td>\n",
       "      <td>222.0</td>\n",
       "      <td>5550.0</td>\n",
       "      <td>MALE</td>\n",
       "    </tr>\n",
       "    <tr>\n",
       "      <th>138</th>\n",
       "      <td>Adelie</td>\n",
       "      <td>Dream</td>\n",
       "      <td>37.0</td>\n",
       "      <td>16.5</td>\n",
       "      <td>185.0</td>\n",
       "      <td>3400.0</td>\n",
       "      <td>FEMALE</td>\n",
       "    </tr>\n",
       "    <tr>\n",
       "      <th>28</th>\n",
       "      <td>Adelie</td>\n",
       "      <td>Biscoe</td>\n",
       "      <td>37.9</td>\n",
       "      <td>18.6</td>\n",
       "      <td>172.0</td>\n",
       "      <td>3150.0</td>\n",
       "      <td>FEMALE</td>\n",
       "    </tr>\n",
       "    <tr>\n",
       "      <th>152</th>\n",
       "      <td>Chinstrap</td>\n",
       "      <td>Dream</td>\n",
       "      <td>46.5</td>\n",
       "      <td>17.9</td>\n",
       "      <td>192.0</td>\n",
       "      <td>3500.0</td>\n",
       "      <td>FEMALE</td>\n",
       "    </tr>\n",
       "    <tr>\n",
       "      <th>61</th>\n",
       "      <td>Adelie</td>\n",
       "      <td>Biscoe</td>\n",
       "      <td>41.3</td>\n",
       "      <td>21.1</td>\n",
       "      <td>195.0</td>\n",
       "      <td>4400.0</td>\n",
       "      <td>MALE</td>\n",
       "    </tr>\n",
       "    <tr>\n",
       "      <th>29</th>\n",
       "      <td>Adelie</td>\n",
       "      <td>Biscoe</td>\n",
       "      <td>40.5</td>\n",
       "      <td>18.9</td>\n",
       "      <td>180.0</td>\n",
       "      <td>3950.0</td>\n",
       "      <td>MALE</td>\n",
       "    </tr>\n",
       "    <tr>\n",
       "      <th>340</th>\n",
       "      <td>Gentoo</td>\n",
       "      <td>Biscoe</td>\n",
       "      <td>46.8</td>\n",
       "      <td>14.3</td>\n",
       "      <td>215.0</td>\n",
       "      <td>4850.0</td>\n",
       "      <td>FEMALE</td>\n",
       "    </tr>\n",
       "    <tr>\n",
       "      <th>278</th>\n",
       "      <td>Gentoo</td>\n",
       "      <td>Biscoe</td>\n",
       "      <td>43.2</td>\n",
       "      <td>14.5</td>\n",
       "      <td>208.0</td>\n",
       "      <td>4450.0</td>\n",
       "      <td>FEMALE</td>\n",
       "    </tr>\n",
       "    <tr>\n",
       "      <th>184</th>\n",
       "      <td>Chinstrap</td>\n",
       "      <td>Dream</td>\n",
       "      <td>42.5</td>\n",
       "      <td>16.7</td>\n",
       "      <td>187.0</td>\n",
       "      <td>3350.0</td>\n",
       "      <td>FEMALE</td>\n",
       "    </tr>\n",
       "    <tr>\n",
       "      <th>80</th>\n",
       "      <td>Adelie</td>\n",
       "      <td>Torgersen</td>\n",
       "      <td>34.6</td>\n",
       "      <td>17.2</td>\n",
       "      <td>189.0</td>\n",
       "      <td>3200.0</td>\n",
       "      <td>FEMALE</td>\n",
       "    </tr>\n",
       "    <tr>\n",
       "      <th>36</th>\n",
       "      <td>Adelie</td>\n",
       "      <td>Dream</td>\n",
       "      <td>38.8</td>\n",
       "      <td>20.0</td>\n",
       "      <td>190.0</td>\n",
       "      <td>3950.0</td>\n",
       "      <td>MALE</td>\n",
       "    </tr>\n",
       "    <tr>\n",
       "      <th>254</th>\n",
       "      <td>Gentoo</td>\n",
       "      <td>Biscoe</td>\n",
       "      <td>49.1</td>\n",
       "      <td>14.8</td>\n",
       "      <td>220.0</td>\n",
       "      <td>5150.0</td>\n",
       "      <td>FEMALE</td>\n",
       "    </tr>\n",
       "    <tr>\n",
       "      <th>130</th>\n",
       "      <td>Adelie</td>\n",
       "      <td>Torgersen</td>\n",
       "      <td>38.5</td>\n",
       "      <td>17.9</td>\n",
       "      <td>190.0</td>\n",
       "      <td>3325.0</td>\n",
       "      <td>FEMALE</td>\n",
       "    </tr>\n",
       "    <tr>\n",
       "      <th>86</th>\n",
       "      <td>Adelie</td>\n",
       "      <td>Dream</td>\n",
       "      <td>36.3</td>\n",
       "      <td>19.5</td>\n",
       "      <td>190.0</td>\n",
       "      <td>3800.0</td>\n",
       "      <td>MALE</td>\n",
       "    </tr>\n",
       "    <tr>\n",
       "      <th>197</th>\n",
       "      <td>Chinstrap</td>\n",
       "      <td>Dream</td>\n",
       "      <td>50.8</td>\n",
       "      <td>18.5</td>\n",
       "      <td>201.0</td>\n",
       "      <td>4450.0</td>\n",
       "      <td>MALE</td>\n",
       "    </tr>\n",
       "    <tr>\n",
       "      <th>34</th>\n",
       "      <td>Adelie</td>\n",
       "      <td>Dream</td>\n",
       "      <td>36.4</td>\n",
       "      <td>17.0</td>\n",
       "      <td>195.0</td>\n",
       "      <td>3325.0</td>\n",
       "      <td>FEMALE</td>\n",
       "    </tr>\n",
       "    <tr>\n",
       "      <th>335</th>\n",
       "      <td>Gentoo</td>\n",
       "      <td>Biscoe</td>\n",
       "      <td>55.1</td>\n",
       "      <td>16.0</td>\n",
       "      <td>230.0</td>\n",
       "      <td>5850.0</td>\n",
       "      <td>MALE</td>\n",
       "    </tr>\n",
       "    <tr>\n",
       "      <th>205</th>\n",
       "      <td>Chinstrap</td>\n",
       "      <td>Dream</td>\n",
       "      <td>50.7</td>\n",
       "      <td>19.7</td>\n",
       "      <td>203.0</td>\n",
       "      <td>4050.0</td>\n",
       "      <td>MALE</td>\n",
       "    </tr>\n",
       "    <tr>\n",
       "      <th>199</th>\n",
       "      <td>Chinstrap</td>\n",
       "      <td>Dream</td>\n",
       "      <td>49.0</td>\n",
       "      <td>19.6</td>\n",
       "      <td>212.0</td>\n",
       "      <td>4300.0</td>\n",
       "      <td>MALE</td>\n",
       "    </tr>\n",
       "  </tbody>\n",
       "</table>\n",
       "</div>"
      ],
      "text/plain": [
       "       Species     Island  Culmen Length (mm)  Culmen Depth (mm)  \\\n",
       "7       Adelie  Torgersen                39.2               19.6   \n",
       "264     Gentoo     Biscoe                50.5               15.9   \n",
       "138     Adelie      Dream                37.0               16.5   \n",
       "28      Adelie     Biscoe                37.9               18.6   \n",
       "152  Chinstrap      Dream                46.5               17.9   \n",
       "61      Adelie     Biscoe                41.3               21.1   \n",
       "29      Adelie     Biscoe                40.5               18.9   \n",
       "340     Gentoo     Biscoe                46.8               14.3   \n",
       "278     Gentoo     Biscoe                43.2               14.5   \n",
       "184  Chinstrap      Dream                42.5               16.7   \n",
       "80      Adelie  Torgersen                34.6               17.2   \n",
       "36      Adelie      Dream                38.8               20.0   \n",
       "254     Gentoo     Biscoe                49.1               14.8   \n",
       "130     Adelie  Torgersen                38.5               17.9   \n",
       "86      Adelie      Dream                36.3               19.5   \n",
       "197  Chinstrap      Dream                50.8               18.5   \n",
       "34      Adelie      Dream                36.4               17.0   \n",
       "335     Gentoo     Biscoe                55.1               16.0   \n",
       "205  Chinstrap      Dream                50.7               19.7   \n",
       "199  Chinstrap      Dream                49.0               19.6   \n",
       "\n",
       "     Flipper Length (mm)  Body Mass (g)     Sex  \n",
       "7                  195.0         4675.0    MALE  \n",
       "264                222.0         5550.0    MALE  \n",
       "138                185.0         3400.0  FEMALE  \n",
       "28                 172.0         3150.0  FEMALE  \n",
       "152                192.0         3500.0  FEMALE  \n",
       "61                 195.0         4400.0    MALE  \n",
       "29                 180.0         3950.0    MALE  \n",
       "340                215.0         4850.0  FEMALE  \n",
       "278                208.0         4450.0  FEMALE  \n",
       "184                187.0         3350.0  FEMALE  \n",
       "80                 189.0         3200.0  FEMALE  \n",
       "36                 190.0         3950.0    MALE  \n",
       "254                220.0         5150.0  FEMALE  \n",
       "130                190.0         3325.0  FEMALE  \n",
       "86                 190.0         3800.0    MALE  \n",
       "197                201.0         4450.0    MALE  \n",
       "34                 195.0         3325.0  FEMALE  \n",
       "335                230.0         5850.0    MALE  \n",
       "205                203.0         4050.0    MALE  \n",
       "199                212.0         4300.0    MALE  "
      ]
     },
     "execution_count": 11,
     "metadata": {},
     "output_type": "execute_result"
    }
   ],
   "source": [
    "train.head(20)"
   ]
  },
  {
   "cell_type": "code",
   "execution_count": 12,
   "metadata": {
    "id": "ouZXp6OFu0M3"
   },
   "outputs": [],
   "source": [
    "def summary_table(df, group_cols, value_cols):\n",
    "    return df.groupby(group_cols)[value_cols].mean().round(2)"
   ]
  },
  {
   "cell_type": "markdown",
   "metadata": {
    "id": "mvT14Z4HVRE8"
   },
   "source": [
    "We decided to pick specific qualitative variables such as Sex and Island and compare them against quantitative variables such as Culmen length, Culmen Depth, Flipper Length, and Body Mass in these sumary tables. We ultimately want to see which one qualitative variable and two quantitative variables are the best predictors of species."
   ]
  },
  {
   "cell_type": "code",
   "execution_count": 13,
   "metadata": {
    "colab": {
     "base_uri": "https://localhost:8080/",
     "height": 269
    },
    "id": "8VfbUjP9vWwf",
    "outputId": "3d510ccc-a2c7-47fe-e93c-9692f215de56"
   },
   "outputs": [
    {
     "data": {
      "text/html": [
       "<div>\n",
       "<style scoped>\n",
       "    .dataframe tbody tr th:only-of-type {\n",
       "        vertical-align: middle;\n",
       "    }\n",
       "\n",
       "    .dataframe tbody tr th {\n",
       "        vertical-align: top;\n",
       "    }\n",
       "\n",
       "    .dataframe thead th {\n",
       "        text-align: right;\n",
       "    }\n",
       "</style>\n",
       "<table border=\"1\" class=\"dataframe\">\n",
       "  <thead>\n",
       "    <tr style=\"text-align: right;\">\n",
       "      <th></th>\n",
       "      <th></th>\n",
       "      <th>Culmen Length (mm)</th>\n",
       "      <th>Culmen Depth (mm)</th>\n",
       "      <th>Flipper Length (mm)</th>\n",
       "      <th>Body Mass (g)</th>\n",
       "    </tr>\n",
       "    <tr>\n",
       "      <th>Species</th>\n",
       "      <th>Sex</th>\n",
       "      <th></th>\n",
       "      <th></th>\n",
       "      <th></th>\n",
       "      <th></th>\n",
       "    </tr>\n",
       "  </thead>\n",
       "  <tbody>\n",
       "    <tr>\n",
       "      <th rowspan=\"2\" valign=\"top\">Adelie</th>\n",
       "      <th>FEMALE</th>\n",
       "      <td>37.06</td>\n",
       "      <td>17.69</td>\n",
       "      <td>187.80</td>\n",
       "      <td>3388.89</td>\n",
       "    </tr>\n",
       "    <tr>\n",
       "      <th>MALE</th>\n",
       "      <td>40.48</td>\n",
       "      <td>19.06</td>\n",
       "      <td>192.10</td>\n",
       "      <td>4028.02</td>\n",
       "    </tr>\n",
       "    <tr>\n",
       "      <th rowspan=\"2\" valign=\"top\">Chinstrap</th>\n",
       "      <th>FEMALE</th>\n",
       "      <td>46.70</td>\n",
       "      <td>17.58</td>\n",
       "      <td>191.54</td>\n",
       "      <td>3501.92</td>\n",
       "    </tr>\n",
       "    <tr>\n",
       "      <th>MALE</th>\n",
       "      <td>51.33</td>\n",
       "      <td>19.24</td>\n",
       "      <td>200.11</td>\n",
       "      <td>3965.18</td>\n",
       "    </tr>\n",
       "    <tr>\n",
       "      <th rowspan=\"2\" valign=\"top\">Gentoo</th>\n",
       "      <th>FEMALE</th>\n",
       "      <td>45.66</td>\n",
       "      <td>14.26</td>\n",
       "      <td>212.98</td>\n",
       "      <td>4697.45</td>\n",
       "    </tr>\n",
       "    <tr>\n",
       "      <th>MALE</th>\n",
       "      <td>49.73</td>\n",
       "      <td>15.76</td>\n",
       "      <td>221.86</td>\n",
       "      <td>5492.65</td>\n",
       "    </tr>\n",
       "  </tbody>\n",
       "</table>\n",
       "</div>"
      ],
      "text/plain": [
       "                  Culmen Length (mm)  Culmen Depth (mm)  Flipper Length (mm)  \\\n",
       "Species   Sex                                                                  \n",
       "Adelie    FEMALE               37.06              17.69               187.80   \n",
       "          MALE                 40.48              19.06               192.10   \n",
       "Chinstrap FEMALE               46.70              17.58               191.54   \n",
       "          MALE                 51.33              19.24               200.11   \n",
       "Gentoo    FEMALE               45.66              14.26               212.98   \n",
       "          MALE                 49.73              15.76               221.86   \n",
       "\n",
       "                  Body Mass (g)  \n",
       "Species   Sex                    \n",
       "Adelie    FEMALE        3388.89  \n",
       "          MALE          4028.02  \n",
       "Chinstrap FEMALE        3501.92  \n",
       "          MALE          3965.18  \n",
       "Gentoo    FEMALE        4697.45  \n",
       "          MALE          5492.65  "
      ]
     },
     "execution_count": 13,
     "metadata": {},
     "output_type": "execute_result"
    }
   ],
   "source": [
    "summary_table(train, [\"Species\", \"Sex\"], [\"Culmen Length (mm)\", \n",
    "                                          \"Culmen Depth (mm)\", \n",
    "                                          \"Flipper Length (mm)\", \n",
    "                                          \"Body Mass (g)\"])"
   ]
  },
  {
   "cell_type": "code",
   "execution_count": 14,
   "metadata": {
    "colab": {
     "base_uri": "https://localhost:8080/",
     "height": 238
    },
    "id": "YNrVuX2ly5sl",
    "outputId": "a4f9e834-0503-4d63-d659-06e33da239cc"
   },
   "outputs": [
    {
     "data": {
      "text/html": [
       "<div>\n",
       "<style scoped>\n",
       "    .dataframe tbody tr th:only-of-type {\n",
       "        vertical-align: middle;\n",
       "    }\n",
       "\n",
       "    .dataframe tbody tr th {\n",
       "        vertical-align: top;\n",
       "    }\n",
       "\n",
       "    .dataframe thead th {\n",
       "        text-align: right;\n",
       "    }\n",
       "</style>\n",
       "<table border=\"1\" class=\"dataframe\">\n",
       "  <thead>\n",
       "    <tr style=\"text-align: right;\">\n",
       "      <th></th>\n",
       "      <th></th>\n",
       "      <th>Culmen Length (mm)</th>\n",
       "      <th>Culmen Depth (mm)</th>\n",
       "      <th>Flipper Length (mm)</th>\n",
       "      <th>Body Mass (g)</th>\n",
       "    </tr>\n",
       "    <tr>\n",
       "      <th>Species</th>\n",
       "      <th>Island</th>\n",
       "      <th></th>\n",
       "      <th></th>\n",
       "      <th></th>\n",
       "      <th></th>\n",
       "    </tr>\n",
       "  </thead>\n",
       "  <tbody>\n",
       "    <tr>\n",
       "      <th rowspan=\"3\" valign=\"top\">Adelie</th>\n",
       "      <th>Biscoe</th>\n",
       "      <td>38.97</td>\n",
       "      <td>18.39</td>\n",
       "      <td>188.40</td>\n",
       "      <td>3703.57</td>\n",
       "    </tr>\n",
       "    <tr>\n",
       "      <th>Dream</th>\n",
       "      <td>38.60</td>\n",
       "      <td>18.26</td>\n",
       "      <td>189.88</td>\n",
       "      <td>3682.14</td>\n",
       "    </tr>\n",
       "    <tr>\n",
       "      <th>Torgersen</th>\n",
       "      <td>38.97</td>\n",
       "      <td>18.58</td>\n",
       "      <td>191.83</td>\n",
       "      <td>3781.43</td>\n",
       "    </tr>\n",
       "    <tr>\n",
       "      <th>Chinstrap</th>\n",
       "      <th>Dream</th>\n",
       "      <td>49.10</td>\n",
       "      <td>18.44</td>\n",
       "      <td>195.98</td>\n",
       "      <td>3742.13</td>\n",
       "    </tr>\n",
       "    <tr>\n",
       "      <th>Gentoo</th>\n",
       "      <th>Biscoe</th>\n",
       "      <td>47.74</td>\n",
       "      <td>15.03</td>\n",
       "      <td>217.51</td>\n",
       "      <td>5103.00</td>\n",
       "    </tr>\n",
       "  </tbody>\n",
       "</table>\n",
       "</div>"
      ],
      "text/plain": [
       "                     Culmen Length (mm)  Culmen Depth (mm)  \\\n",
       "Species   Island                                             \n",
       "Adelie    Biscoe                  38.97              18.39   \n",
       "          Dream                   38.60              18.26   \n",
       "          Torgersen               38.97              18.58   \n",
       "Chinstrap Dream                   49.10              18.44   \n",
       "Gentoo    Biscoe                  47.74              15.03   \n",
       "\n",
       "                     Flipper Length (mm)  Body Mass (g)  \n",
       "Species   Island                                         \n",
       "Adelie    Biscoe                  188.40        3703.57  \n",
       "          Dream                   189.88        3682.14  \n",
       "          Torgersen               191.83        3781.43  \n",
       "Chinstrap Dream                   195.98        3742.13  \n",
       "Gentoo    Biscoe                  217.51        5103.00  "
      ]
     },
     "execution_count": 14,
     "metadata": {},
     "output_type": "execute_result"
    }
   ],
   "source": [
    "summary_table(train, [\"Species\", \"Island\"], [\"Culmen Length (mm)\", \n",
    "                                             \"Culmen Depth (mm)\", \n",
    "                                             \"Flipper Length (mm)\", \n",
    "                                             \"Body Mass (g)\"])"
   ]
  },
  {
   "cell_type": "markdown",
   "metadata": {
    "id": "z4KnPznWzZKq"
   },
   "source": [
    "These two summary tables shows that Island is a better qualitative predictor because it narrows down which Species it could be whereas with Sex, there are both sexes for each Species. As we can see, Adelie is on all three islands where as Chinstrap is only on Dream and Gentoo is only on Biscoe. Flipper Length seems to vary in length based on species. The length is the highest for Gentoo and the lowest for Adelie, so it is a good quantitative predictor variable for Species. This is the same for Culmen Length except Chinstrap has the highest length when it comes to the Culmen, not the Flipper Length. These tables show the corelation between different qualitative and quantitative features of each of the different species."
   ]
  },
  {
   "cell_type": "code",
   "execution_count": 15,
   "metadata": {
    "id": "e-1t8SnCqMPk"
   },
   "outputs": [],
   "source": [
    "def plot_hist(df, colname, alpha):\n",
    "    ax.hist(df[colname], alpha = alpha, label = df[\"Species\"])\n",
    "    ax.set(xlabel = colname, ylabel = \"Density\")\n",
    "    ax.legend()"
   ]
  },
  {
   "cell_type": "markdown",
   "metadata": {
    "id": "zQvAgfESYEYd"
   },
   "source": [
    "We decided to use histograms to compare the quantitative variables of each species."
   ]
  },
  {
   "cell_type": "code",
   "execution_count": 16,
   "metadata": {
    "colab": {
     "base_uri": "https://localhost:8080/",
     "height": 311
    },
    "id": "6jIt4Czkqx1c",
    "outputId": "06feaea5-7b05-4c11-ce1f-2a6d78b43a3e"
   },
   "outputs": [
    {
     "data": {
      "text/html": [
       "<div>\n",
       "<style scoped>\n",
       "    .dataframe tbody tr th:only-of-type {\n",
       "        vertical-align: middle;\n",
       "    }\n",
       "\n",
       "    .dataframe tbody tr th {\n",
       "        vertical-align: top;\n",
       "    }\n",
       "\n",
       "    .dataframe thead th {\n",
       "        text-align: right;\n",
       "    }\n",
       "</style>\n",
       "<table border=\"1\" class=\"dataframe\">\n",
       "  <thead>\n",
       "    <tr style=\"text-align: right;\">\n",
       "      <th></th>\n",
       "    </tr>\n",
       "  </thead>\n",
       "  <tbody>\n",
       "  </tbody>\n",
       "</table>\n",
       "</div>"
      ],
      "text/plain": [
       "Empty DataFrame\n",
       "Columns: []\n",
       "Index: []"
      ]
     },
     "execution_count": 16,
     "metadata": {},
     "output_type": "execute_result"
    },
    {
     "data": {
      "image/png": "[encoded data removed]",
      "text/plain": [
       "<Figure size 432x288 with 1 Axes>"
      ]
     },
     "metadata": {
      "needs_background": "light"
     },
     "output_type": "display_data"
    }
   ],
   "source": [
    "fig,ax = plt.subplots(1)\n",
    "train.groupby(\"Species\").apply(plot_hist, \"Culmen Length (mm)\", 0.5)"
   ]
  },
  {
   "cell_type": "markdown",
   "metadata": {
    "id": "IR7ml_GFoDhe"
   },
   "source": [
    "As we see here there is a somewhat higher density of Adelie Penguins, and they have lower Culmen Lengths compared to the lengths of the other two species. Both Chinstrap and Gentoo have longer Culmen Lengths, but Chinstrap has a lower density."
   ]
  },
  {
   "cell_type": "code",
   "execution_count": 17,
   "metadata": {
    "colab": {
     "base_uri": "https://localhost:8080/",
     "height": 312
    },
    "id": "6faZ6iZ7kVbT",
    "outputId": "ffdad223-a82e-4479-df92-6a14803cd538"
   },
   "outputs": [
    {
     "data": {
      "text/html": [
       "<div>\n",
       "<style scoped>\n",
       "    .dataframe tbody tr th:only-of-type {\n",
       "        vertical-align: middle;\n",
       "    }\n",
       "\n",
       "    .dataframe tbody tr th {\n",
       "        vertical-align: top;\n",
       "    }\n",
       "\n",
       "    .dataframe thead th {\n",
       "        text-align: right;\n",
       "    }\n",
       "</style>\n",
       "<table border=\"1\" class=\"dataframe\">\n",
       "  <thead>\n",
       "    <tr style=\"text-align: right;\">\n",
       "      <th></th>\n",
       "    </tr>\n",
       "  </thead>\n",
       "  <tbody>\n",
       "  </tbody>\n",
       "</table>\n",
       "</div>"
      ],
      "text/plain": [
       "Empty DataFrame\n",
       "Columns: []\n",
       "Index: []"
      ]
     },
     "execution_count": 17,
     "metadata": {},
     "output_type": "execute_result"
    },
    {
     "data": {
      "image/png": "[encoded data removed]",
      "text/plain": [
       "<Figure size 432x288 with 1 Axes>"
      ]
     },
     "metadata": {
      "needs_background": "light"
     },
     "output_type": "display_data"
    }
   ],
   "source": [
    "fig, ax = plt.subplots(1)\n",
    "train.groupby(\"Species\").apply(plot_hist, 'Culmen Depth (mm)', 0.5)"
   ]
  },
  {
   "cell_type": "markdown",
   "metadata": {
    "id": "w4Frsd9-oYQA"
   },
   "source": [
    "However as we can see here, when it comes to Culmen Depth, Adelie and Chinstrap have larger Culmen Depths whereas Gentoo has lower Culmen Depths on average."
   ]
  },
  {
   "cell_type": "code",
   "execution_count": 18,
   "metadata": {
    "colab": {
     "base_uri": "https://localhost:8080/",
     "height": 314
    },
    "id": "nWa6kGVskZ8X",
    "outputId": "13bbe6a4-77a0-4946-f99e-351aaa7a3e79"
   },
   "outputs": [
    {
     "data": {
      "text/html": [
       "<div>\n",
       "<style scoped>\n",
       "    .dataframe tbody tr th:only-of-type {\n",
       "        vertical-align: middle;\n",
       "    }\n",
       "\n",
       "    .dataframe tbody tr th {\n",
       "        vertical-align: top;\n",
       "    }\n",
       "\n",
       "    .dataframe thead th {\n",
       "        text-align: right;\n",
       "    }\n",
       "</style>\n",
       "<table border=\"1\" class=\"dataframe\">\n",
       "  <thead>\n",
       "    <tr style=\"text-align: right;\">\n",
       "      <th></th>\n",
       "    </tr>\n",
       "  </thead>\n",
       "  <tbody>\n",
       "  </tbody>\n",
       "</table>\n",
       "</div>"
      ],
      "text/plain": [
       "Empty DataFrame\n",
       "Columns: []\n",
       "Index: []"
      ]
     },
     "execution_count": 18,
     "metadata": {},
     "output_type": "execute_result"
    },
    {
     "data": {
      "image/png": "[encoded data removed]",
      "text/plain": [
       "<Figure size 432x288 with 1 Axes>"
      ]
     },
     "metadata": {
      "needs_background": "light"
     },
     "output_type": "display_data"
    }
   ],
   "source": [
    "fig, ax = plt.subplots(1)\n",
    "train.groupby(\"Species\").apply(plot_hist, 'Flipper Length (mm)', 0.5)"
   ]
  },
  {
   "cell_type": "markdown",
   "metadata": {
    "id": "Dqr9Kt99opB9"
   },
   "source": [
    "There is a larger spread of the data when looking at Flipper Length with Adelie having the shortest flippers, Gentoo having the longest, and Chinstrap being somewhere in the middle at least to some extent."
   ]
  },
  {
   "cell_type": "markdown",
   "metadata": {
    "id": "0ioYfTMg2FAT"
   },
   "source": [
    "Flipper Length has different ranges of lengths depending on the species, so this is a good quantitative variable to look at."
   ]
  },
  {
   "cell_type": "code",
   "execution_count": 19,
   "metadata": {
    "colab": {
     "base_uri": "https://localhost:8080/",
     "height": 311
    },
    "id": "qAZVibH0mWBP",
    "outputId": "bc8ec0e9-c025-46e0-b4d1-29addb93b5f3"
   },
   "outputs": [
    {
     "data": {
      "text/html": [
       "<div>\n",
       "<style scoped>\n",
       "    .dataframe tbody tr th:only-of-type {\n",
       "        vertical-align: middle;\n",
       "    }\n",
       "\n",
       "    .dataframe tbody tr th {\n",
       "        vertical-align: top;\n",
       "    }\n",
       "\n",
       "    .dataframe thead th {\n",
       "        text-align: right;\n",
       "    }\n",
       "</style>\n",
       "<table border=\"1\" class=\"dataframe\">\n",
       "  <thead>\n",
       "    <tr style=\"text-align: right;\">\n",
       "      <th></th>\n",
       "    </tr>\n",
       "  </thead>\n",
       "  <tbody>\n",
       "  </tbody>\n",
       "</table>\n",
       "</div>"
      ],
      "text/plain": [
       "Empty DataFrame\n",
       "Columns: []\n",
       "Index: []"
      ]
     },
     "execution_count": 19,
     "metadata": {},
     "output_type": "execute_result"
    },
    {
     "data": {
      "image/png": "[encoded data removed]",
      "text/plain": [
       "<Figure size 432x288 with 1 Axes>"
      ]
     },
     "metadata": {
      "needs_background": "light"
     },
     "output_type": "display_data"
    }
   ],
   "source": [
    "fig, ax = plt.subplots(1)\n",
    "train.groupby(\"Species\").apply(plot_hist, 'Body Mass (g)', 0.5)"
   ]
  },
  {
   "cell_type": "markdown",
   "metadata": {
    "id": "8zodeTIwo7jr"
   },
   "source": [
    "These histograms show that there is the largest difference of Body Mass with Gentoo penguins compared to that of Adelie or Chinstrap penguins, but Adelie and Chinstrap do not differ in terms of mass by that much."
   ]
  },
  {
   "cell_type": "code",
   "execution_count": 20,
   "metadata": {
    "colab": {
     "base_uri": "https://localhost:8080/",
     "height": 225
    },
    "id": "Qc2Pm0IxrLF1",
    "outputId": "d5888ae9-51fa-45b6-8737-266611b3a4e7"
   },
   "outputs": [
    {
     "data": {
      "image/png": "[encoded data removed]",
      "text/plain": [
       "<Figure size 516.125x216 with 2 Axes>"
      ]
     },
     "metadata": {
      "needs_background": "light"
     },
     "output_type": "display_data"
    }
   ],
   "source": [
    "fgrid = sns.relplot(x = \"Culmen Length (mm)\", \n",
    "                    y = \"Culmen Depth (mm)\", \n",
    "                    hue = \"Species\",\n",
    "                    col = \"Sex\",\n",
    "                    height = 3,\n",
    "                    aspect = 1, \n",
    "                    data = train)"
   ]
  },
  {
   "cell_type": "markdown",
   "metadata": {
    "id": "ddkNU43fpk3a"
   },
   "source": [
    "These scatter plots show the difference between the Culmen Length and the Culmen Depth based on Sex. As we can see, there does not seem to be much of a difference between the different sexes. Therefore, this variable could potentially be eliminated which is why we will explore island next."
   ]
  },
  {
   "cell_type": "code",
   "execution_count": 21,
   "metadata": {
    "colab": {
     "base_uri": "https://localhost:8080/",
     "height": 225
    },
    "id": "2Yb-7kG1qUWn",
    "outputId": "c4024029-4c4a-4623-ce93-6ec83b5d7d13"
   },
   "outputs": [
    {
     "data": {
      "image/png": "[encoded data removed]",
      "text/plain": [
       "<Figure size 732.125x216 with 3 Axes>"
      ]
     },
     "metadata": {
      "needs_background": "light"
     },
     "output_type": "display_data"
    }
   ],
   "source": [
    "fgrid = sns.relplot(x = \"Culmen Length (mm)\", \n",
    "                    y = \"Culmen Depth (mm)\", \n",
    "                    hue = \"Species\",\n",
    "                    col = \"Island\",\n",
    "                    height = 3,\n",
    "                    aspect = 1, \n",
    "                    data = train)"
   ]
  },
  {
   "cell_type": "markdown",
   "metadata": {
    "id": "wZiZd-zGqFnc"
   },
   "source": [
    "|We see that there is the biggest difference between the different islands because only the Adelie species is on Torgersen. However, in Biscoe, there are the Gentoo species and the Adelie species, and on Dream, there are the Chinstrap species and the Adelie species. \n",
    "\n",
    "Therefore, regardless of the quantitative variable, the qualitative variable of Island shows the biggest difference, so Island is a good qulitative variable to try to predict species."
   ]
  },
  {
   "cell_type": "code",
   "execution_count": 22,
   "metadata": {
    "colab": {
     "base_uri": "https://localhost:8080/",
     "height": 279
    },
    "id": "BI8ncj3NsbC8",
    "outputId": "7a80f8ca-b819-438d-d78c-1e8a51d48423"
   },
   "outputs": [
    {
     "data": {
      "image/png": "[encoded data removed]",
      "text/plain": [
       "<Figure size 432x288 with 1 Axes>"
      ]
     },
     "metadata": {
      "needs_background": "light"
     },
     "output_type": "display_data"
    }
   ],
   "source": [
    "fgrid = sns.boxplot(x = \"Culmen Length (mm)\", \n",
    "                    y = \"Island\",\n",
    "                    hue = \"Species\",\n",
    "                    data = train)"
   ]
  },
  {
   "cell_type": "markdown",
   "metadata": {
    "id": "h0l4V4URqp3t"
   },
   "source": [
    "As shown above in the box plot this yields the same result as the scatter plot based on the variable Island. This further confirms that we should use the qualititive variable Island as our qualitative variable. Additionally, this boxplot reveals that it will be useful to use Island and Culmen Length because when we examine the different Islands, we narrow down the species to either Adelie if the Island is Torgersen, Adelie or Gentoo if on Biscoe, and Adelie or Chinstrap if on Dream. By comparing the Culmen length of the species Gentoo and Chinstrap we are able to slightly determine our target species. However in order to better analyze this we need another quantitative variable."
   ]
  },
  {
   "cell_type": "markdown",
   "metadata": {
    "id": "lGHPhfCfLkCg"
   },
   "source": [
    "Culmen Length seems like a good quantitative variable to predict species."
   ]
  },
  {
   "cell_type": "code",
   "execution_count": 23,
   "metadata": {
    "colab": {
     "base_uri": "https://localhost:8080/",
     "height": 279
    },
    "id": "a57Gk7D7skF_",
    "outputId": "efebb555-8cf6-40aa-f141-46dc361f41bc"
   },
   "outputs": [
    {
     "data": {
      "image/png": "[encoded data removed]",
      "text/plain": [
       "<Figure size 432x288 with 1 Axes>"
      ]
     },
     "metadata": {
      "needs_background": "light"
     },
     "output_type": "display_data"
    }
   ],
   "source": [
    "fgrid = sns.boxplot(x = \"Body Mass (g)\", \n",
    "                    y = \"Island\",\n",
    "                    hue = \"Species\",\n",
    "                    data = train)"
   ]
  },
  {
   "cell_type": "markdown",
   "metadata": {
    "id": "pxRdmWIqrWGY"
   },
   "source": [
    "In this box plot there is a big diference between Gentoo and Chinstrap so we could have used it as our second quantiative variable, but we will examine another quantitative variable to see if it yields better results. In this we see that Dream and Adelie are the closest in terms of Body Mass whereas the Body Mass of Gentoo is significantly higher. "
   ]
  },
  {
   "cell_type": "code",
   "execution_count": 24,
   "metadata": {
    "colab": {
     "base_uri": "https://localhost:8080/",
     "height": 279
    },
    "id": "7WoQPTJyr_T4",
    "outputId": "b0bf3861-cfb2-405b-85e3-42f5944b6aac"
   },
   "outputs": [
    {
     "data": {
      "image/png": "[encoded data removed]",
      "text/plain": [
       "<Figure size 432x288 with 1 Axes>"
      ]
     },
     "metadata": {
      "needs_background": "light"
     },
     "output_type": "display_data"
    }
   ],
   "source": [
    "fgrid = sns.boxplot(x = \"Culmen Depth (mm)\", \n",
    "                    y = \"Island\",\n",
    "                    hue = \"Species\",\n",
    "                    data = train)"
   ]
  },
  {
   "cell_type": "markdown",
   "metadata": {
    "id": "C9ONx3GYrii-"
   },
   "source": [
    "The culmen depth of the Chinstrap species most closely resembles the Adelie species. Gentoo is farther to the left in this boxplot because it has a lower culmen depth so this is another potential variable that we can use, but let's explore even more."
   ]
  },
  {
   "cell_type": "code",
   "execution_count": 25,
   "metadata": {
    "colab": {
     "base_uri": "https://localhost:8080/",
     "height": 279
    },
    "id": "dANGcLw0sDZv",
    "outputId": "478a053d-402f-4d1f-908b-e4a1d2ac0c73"
   },
   "outputs": [
    {
     "data": {
      "image/png": "[encoded data removed]",
      "text/plain": [
       "<Figure size 432x288 with 1 Axes>"
      ]
     },
     "metadata": {
      "needs_background": "light"
     },
     "output_type": "display_data"
    }
   ],
   "source": [
    "fgrid = sns.boxplot(x = \"Flipper Length (mm)\", \n",
    "                    y = \"Island\",\n",
    "                    hue = \"Species\",\n",
    "                    data = train)"
   ]
  },
  {
   "cell_type": "markdown",
   "metadata": {
    "id": "lCwId9Go3NY4"
   },
   "source": [
    "In this boxplot, we see that there is a large distincftion between Gentoo and the other two species. However the key difference with Flipper Length is that there is a slightly larger distinction between Adelie and Chinstrap compared to the other quantitative variables where we observed that two species moreso overlapped in size of the quantitative variables. \n",
    "\n",
    "This is why we will choose Flipper Length as a good quantitiative variable because it does show more differentiation between the species in their lengths than the other variables besides Culmen Length which is the other variable that we will use."
   ]
  },
  {
   "cell_type": "markdown",
   "metadata": {
    "id": "P-am5vPK8wse"
   },
   "source": [
    "# Feature Selection\n",
    "Based on the EDA, we decided to select the predictor variables Island as the qualitative variable and Culmen length and Flipper Length as the quantitative variables. This is because in order to predict the target variable Species we have to choose the most differentiable variables for our predictions. Island was very telling in the way that only certain species existed on each unique Island. This will lead us to more easily narrow down the species just off of what Island the species belongs to. Culmen Length differed a lot based on the species, so it is a great variable to look at in order to predict species. The second most telling quantitative variable was in fact Flipper Length, so we decided to use that as our third predictor variable."
   ]
  },
  {
   "cell_type": "markdown",
   "metadata": {
    "id": "k1AEEKCn8IRB"
   },
   "source": [
    "## Data Cleaning, Split into X (predictor data -> 1 qualitative and 2 quantitative variables) and y (target data)\n",
    "We dropped all of the columns except for the 3 chosen predictor variables and the 1 target variable aka species. We then split the variable and did some additional cleaning to make data observations easier. The X variable holds the predictive variables (Culmen Length, Flipper Length, and Island) and the Y variable holds the target variable we want to predict: Species."
   ]
  },
  {
   "cell_type": "code",
   "execution_count": 26,
   "metadata": {
    "id": "6B64A-vnFBBY"
   },
   "outputs": [],
   "source": [
    "def prep_penguins(data_df):\n",
    "    '''\n",
    "    Params: \n",
    "      data_df: the data set penguins\n",
    "    Returns:\n",
    "      X: Island, Culmen Length (mm), Flipper Length (mm)\n",
    "      y: Species (as 0, 1, or 2)\n",
    "    '''\n",
    "    df = data_df.copy()\n",
    "    \n",
    "    le = preprocessing.LabelEncoder()\n",
    "    df['Sex'] = le.fit_transform(df['Sex'])\n",
    "    df['Island'] = le.fit_transform(df['Island'])\n",
    "    df['Species'] = le.fit_transform(df['Species'])\n",
    "\n",
    "    # drop unnecessary columns\n",
    "    # only keep 1 qualitative and 2 quantitative variables\n",
    "    df = df.drop(['Culmen Depth (mm)', \n",
    "                  'Body Mass (g)',\n",
    "                  'Sex'], axis = 1)\n",
    "\n",
    "    # split into X and y\n",
    "    X = df.drop(['Species'], axis = 1)\n",
    "    y = df['Species']\n",
    "\n",
    "\n",
    "    return(X, y)"
   ]
  },
  {
   "cell_type": "markdown",
   "metadata": {
    "id": "TaLL1hvS4lAe"
   },
   "source": [
    "During the data prep we needed to transform the qualitative variables into quantitative variables. This is why we turned the Sex, Island, and Species into 0s, 1s, and 2s so we can work with them. This is necessary because we found that our models did not work if we kept them as qualitative variables because these models cannot work with the qualitative category names, so we replaced the names with number representations.\n",
    "\n",
    "During this section in order to further clean we also dropped the columns Sex, Body Mass, and Culmen Depth because they are irrelevant to our model. We also dropped species from our X because we want the X to just be the predictor variables. We made our y the species, target variable."
   ]
  },
  {
   "cell_type": "code",
   "execution_count": 27,
   "metadata": {
    "id": "JpMkB3VPF5eI"
   },
   "outputs": [],
   "source": [
    "X_train, y_train = prep_penguins(train)\n",
    "X_test, y_test = prep_penguins(test)"
   ]
  },
  {
   "cell_type": "markdown",
   "metadata": {
    "id": "ysLakUZj5tb5"
   },
   "source": [
    "Now we have separate training and testing sets split between the predictor variables and the target variable."
   ]
  },
  {
   "cell_type": "code",
   "execution_count": 28,
   "metadata": {
    "colab": {
     "base_uri": "https://localhost:8080/",
     "height": 424
    },
    "id": "w-BeLvB7GDlB",
    "outputId": "fc823007-710c-4ea6-c23f-28b7894c887f"
   },
   "outputs": [
    {
     "data": {
      "text/html": [
       "<div>\n",
       "<style scoped>\n",
       "    .dataframe tbody tr th:only-of-type {\n",
       "        vertical-align: middle;\n",
       "    }\n",
       "\n",
       "    .dataframe tbody tr th {\n",
       "        vertical-align: top;\n",
       "    }\n",
       "\n",
       "    .dataframe thead th {\n",
       "        text-align: right;\n",
       "    }\n",
       "</style>\n",
       "<table border=\"1\" class=\"dataframe\">\n",
       "  <thead>\n",
       "    <tr style=\"text-align: right;\">\n",
       "      <th></th>\n",
       "      <th>Island</th>\n",
       "      <th>Culmen Length (mm)</th>\n",
       "      <th>Flipper Length (mm)</th>\n",
       "    </tr>\n",
       "  </thead>\n",
       "  <tbody>\n",
       "    <tr>\n",
       "      <th>7</th>\n",
       "      <td>2</td>\n",
       "      <td>39.2</td>\n",
       "      <td>195.0</td>\n",
       "    </tr>\n",
       "    <tr>\n",
       "      <th>264</th>\n",
       "      <td>0</td>\n",
       "      <td>50.5</td>\n",
       "      <td>222.0</td>\n",
       "    </tr>\n",
       "    <tr>\n",
       "      <th>138</th>\n",
       "      <td>1</td>\n",
       "      <td>37.0</td>\n",
       "      <td>185.0</td>\n",
       "    </tr>\n",
       "    <tr>\n",
       "      <th>28</th>\n",
       "      <td>0</td>\n",
       "      <td>37.9</td>\n",
       "      <td>172.0</td>\n",
       "    </tr>\n",
       "    <tr>\n",
       "      <th>152</th>\n",
       "      <td>1</td>\n",
       "      <td>46.5</td>\n",
       "      <td>192.0</td>\n",
       "    </tr>\n",
       "    <tr>\n",
       "      <th>...</th>\n",
       "      <td>...</td>\n",
       "      <td>...</td>\n",
       "      <td>...</td>\n",
       "    </tr>\n",
       "    <tr>\n",
       "      <th>210</th>\n",
       "      <td>1</td>\n",
       "      <td>50.2</td>\n",
       "      <td>202.0</td>\n",
       "    </tr>\n",
       "    <tr>\n",
       "      <th>59</th>\n",
       "      <td>0</td>\n",
       "      <td>37.6</td>\n",
       "      <td>194.0</td>\n",
       "    </tr>\n",
       "    <tr>\n",
       "      <th>302</th>\n",
       "      <td>0</td>\n",
       "      <td>47.4</td>\n",
       "      <td>212.0</td>\n",
       "    </tr>\n",
       "    <tr>\n",
       "      <th>217</th>\n",
       "      <td>1</td>\n",
       "      <td>49.6</td>\n",
       "      <td>193.0</td>\n",
       "    </tr>\n",
       "    <tr>\n",
       "      <th>311</th>\n",
       "      <td>0</td>\n",
       "      <td>52.2</td>\n",
       "      <td>228.0</td>\n",
       "    </tr>\n",
       "  </tbody>\n",
       "</table>\n",
       "<p>266 rows × 3 columns</p>\n",
       "</div>"
      ],
      "text/plain": [
       "     Island  Culmen Length (mm)  Flipper Length (mm)\n",
       "7         2                39.2                195.0\n",
       "264       0                50.5                222.0\n",
       "138       1                37.0                185.0\n",
       "28        0                37.9                172.0\n",
       "152       1                46.5                192.0\n",
       "..      ...                 ...                  ...\n",
       "210       1                50.2                202.0\n",
       "59        0                37.6                194.0\n",
       "302       0                47.4                212.0\n",
       "217       1                49.6                193.0\n",
       "311       0                52.2                228.0\n",
       "\n",
       "[266 rows x 3 columns]"
      ]
     },
     "execution_count": 28,
     "metadata": {},
     "output_type": "execute_result"
    }
   ],
   "source": [
    "X_train"
   ]
  },
  {
   "cell_type": "markdown",
   "metadata": {
    "id": "F2SzPgtSuYKU"
   },
   "source": [
    "As you can see above X_train only contains the predictor variables. Island 1 is Dream, 2 is Biscoe, and 3 is Torgersen."
   ]
  },
  {
   "cell_type": "code",
   "execution_count": 29,
   "metadata": {
    "colab": {
     "base_uri": "https://localhost:8080/"
    },
    "id": "Cq_FSGRbGfhg",
    "outputId": "63a806e8-8e92-48af-979c-8ccd30dbe6ae"
   },
   "outputs": [
    {
     "data": {
      "text/plain": [
       "7      0\n",
       "264    2\n",
       "138    0\n",
       "28     0\n",
       "152    1\n",
       "      ..\n",
       "210    1\n",
       "59     0\n",
       "302    2\n",
       "217    1\n",
       "311    2\n",
       "Name: Species, Length: 266, dtype: int64"
      ]
     },
     "execution_count": 29,
     "metadata": {},
     "output_type": "execute_result"
    }
   ],
   "source": [
    "y_train"
   ]
  },
  {
   "cell_type": "markdown",
   "metadata": {
    "id": "2d1e2-IWuceU"
   },
   "source": [
    "And here you can see y_train only contains the Species represented by numbers. 0 represents Adelie, 1 represents Chinstrap, and 2 represents Gentoo."
   ]
  },
  {
   "cell_type": "markdown",
   "metadata": {
    "id": "J52Xlku53jMA"
   },
   "source": [
    "## Modeling"
   ]
  },
  {
   "cell_type": "markdown",
   "metadata": {
    "id": "HorTJ1H7NEih"
   },
   "source": [
    "## Decision Region Plot"
   ]
  },
  {
   "cell_type": "code",
   "execution_count": 30,
   "metadata": {
    "id": "DV1jRbQ4RZWB"
   },
   "outputs": [],
   "source": [
    "# These are data used to plot dicision regions on different islands\n",
    "dream_penguins = test.loc[test[\"Island\"] == \"Dream\"]\n",
    "dream_X, dream_y = prep_penguins(dream_penguins)\n",
    "\n",
    "torgersen_penguins = test.loc[test[\"Island\"] == \"Torgersen\"]\n",
    "torgersen_X, torgersen_y = prep_penguins(torgersen_penguins)\n",
    "\n",
    "biscoe_penguins = test.loc[test[\"Island\"] == \"Biscoe\"]\n",
    "biscoe_X, biscoe_y = prep_penguins(biscoe_penguins)"
   ]
  },
  {
   "cell_type": "markdown",
   "metadata": {
    "id": "_S8mOviRNUj9"
   },
   "source": [
    "We did this to split up the plotting regions into three different islands. We split into the island Torgersen as well just as a formality but because Torgesen only had the Adelie Species in it we ran into a problem. The model did not like that because there was only one unique class label for the y set which is why it will not execute. Thus, you will see one Decision Region Plot for each model with three species in it while the other two Islands had two species on the island, so the models were able to create the plots."
   ]
  },
  {
   "cell_type": "markdown",
   "metadata": {
    "id": "gmjdEncQ6na9"
   },
   "source": [
    "We split the data up by Island and then used the same prep cleaning function on the 3 splits of the data corresponding to island. "
   ]
  },
  {
   "cell_type": "code",
   "execution_count": 31,
   "metadata": {
    "id": "ZzmhwLCNNECx"
   },
   "outputs": [],
   "source": [
    "def plot_decision_function(model, df, X, y):\n",
    "    '''\n",
    "    Params: \n",
    "      model: the model we are using\n",
    "      df: the data\n",
    "      X: the quantitative variables for the data\n",
    "      y: species\n",
    "    Returns:\n",
    "      decision region plots\n",
    "    '''\n",
    "\n",
    "    quant = ['Culmen Length (mm)', 'Flipper Length (mm)']\n",
    "    model.fit(X[quant], y)\n",
    "    \n",
    "    range_items = {\n",
    "    feature_name: (X[feature_name].min() - 1, X[feature_name].max() + 1)\n",
    "    for feature_name in quant\n",
    "    }\n",
    "    feature_names = list(range_items.keys())\n",
    "\n",
    "    xx, yy = np.meshgrid(\n",
    "        np.arange(range_items[feature_names[0]][0], range_items[feature_names[0]][1], 0.02),\n",
    "        np.arange(range_items[feature_names[1]][0], range_items[feature_names[1]][1], 0.02)\n",
    "    )\n",
    "\n",
    "    Z = model.predict(np.c_[xx.ravel(), yy.ravel()])\n",
    "    Z = Z.reshape(xx.shape)\n",
    "\n",
    "    fig, ax = plt.subplots()\n",
    "    ax = sns.scatterplot(data=df, x=\"Culmen Length (mm)\", y= \"Flipper Length (mm)\", hue=\"Species\")\n",
    "    ax.contourf(xx, yy, Z, alpha=0.4, cmap=\"YlGnBu\")\n",
    "\n",
    "    return ax"
   ]
  },
  {
   "cell_type": "code",
   "execution_count": 32,
   "metadata": {
    "colab": {
     "base_uri": "https://localhost:8080/"
    },
    "id": "4OdQ-q8JBM-m",
    "outputId": "5eb71221-1b9b-4f30-f95a-ec4aede32758"
   },
   "outputs": [
    {
     "data": {
      "text/plain": [
       "array([0, 1, 2])"
      ]
     },
     "execution_count": 32,
     "metadata": {},
     "output_type": "execute_result"
    }
   ],
   "source": [
    "np.unique(y_train)"
   ]
  },
  {
   "cell_type": "markdown",
   "metadata": {
    "id": "qb9Rd8mu7Q5F"
   },
   "source": [
    "In this function we first had to fit the model based on the quantitative and the qualititave data. We combined both of the quantitative data from the variables into the variable quant so is is easier to work with. After that we created a dictionary that contains the column names along with the miniumum and maximum values. Then we created the mesh grid and then computed the predictions. After we plotted the data."
   ]
  },
  {
   "cell_type": "markdown",
   "metadata": {
    "id": "dvDbK_7X4Re3"
   },
   "source": [
    "## Model 1: Support Vector Machine"
   ]
  },
  {
   "cell_type": "markdown",
   "metadata": {
    "id": "OmOVzv9WxAix"
   },
   "source": [
    "We want to minimize overfitting which is why we want to determine the optimal complexity for the model. We wanted to find the best parameter for the C value which determines the margin of the hyperplane."
   ]
  },
  {
   "cell_type": "code",
   "execution_count": 33,
   "metadata": {
    "id": "f5uvV2oJBu__"
   },
   "outputs": [],
   "source": [
    "def best_Cparam(X, y):\n",
    "    '''\n",
    "    Params: \n",
    "      X: Island, Culmen Length (mm), Flipper Length (mm)\n",
    "      y: Species\n",
    "    Returns:\n",
    "      best_C: The best index of the best cross validation score\n",
    "      best_score: the best Cross Validation score\n",
    "    '''\n",
    "    fig, ax = plt.subplots(1)\n",
    "    best_score = 0\n",
    "\n",
    "    for d in range(1,15):\n",
    "        model = SVC(kernel = \"poly\", C = d)\n",
    "        cv_score = cross_val_score(model, X, y, cv=10).mean()\n",
    "        ax.scatter(d, cv_score, color = \"black\")\n",
    "        \n",
    "        if cv_score > best_score:\n",
    "            best_C = d\n",
    "            best_score = cv_score\n",
    "\n",
    "    ax.set(title = \"Best C : \" + str(best_C), xlabel = \"C\", ylabel = \"CV Score\")\n",
    "    return best_C, best_score"
   ]
  },
  {
   "cell_type": "markdown",
   "metadata": {
    "id": "M3--pv7F90e3"
   },
   "source": [
    "This function attempts to find the best C parameter. It initializes the best score to 0. After that it loops through 14 times the cross validation score and then finds the mean and then plots it. In order to find the best CV score each time that we go through the loop we compare it to the current based CV score to determine which one is higher. In the end it returns the best C index and also the score associated with it. "
   ]
  },
  {
   "cell_type": "code",
   "execution_count": 34,
   "metadata": {
    "colab": {
     "base_uri": "https://localhost:8080/",
     "height": 295
    },
    "id": "jbz-UJT99oum",
    "outputId": "262cd025-896c-451a-bb1a-a281648928b0"
   },
   "outputs": [
    {
     "data": {
      "image/png": "[encoded data removed]",
      "text/plain": [
       "<Figure size 432x288 with 1 Axes>"
      ]
     },
     "metadata": {
      "needs_background": "light"
     },
     "output_type": "display_data"
    }
   ],
   "source": [
    "best_C, best_score = best_Cparam(X_train, y_train)"
   ]
  },
  {
   "cell_type": "markdown",
   "metadata": {
    "id": "_RnqV9nrArVC"
   },
   "source": [
    "The best score is the 10th iteration. Once we find what the best C value is we will then train a model that is updated and then try to calculate the difference in scores between the training and the test data sets."
   ]
  },
  {
   "cell_type": "code",
   "execution_count": 35,
   "metadata": {
    "colab": {
     "base_uri": "https://localhost:8080/"
    },
    "id": "M3vqNWRd9s6z",
    "outputId": "0bba5edc-50c5-4c38-acee-ebfdaad439d9"
   },
   "outputs": [
    {
     "data": {
      "text/plain": [
       "(0.9511278195488722, 0.9552238805970149)"
      ]
     },
     "execution_count": 35,
     "metadata": {},
     "output_type": "execute_result"
    }
   ],
   "source": [
    "svm = SVC(kernel='poly', C=best_C)\n",
    "svm.fit(X_train, y_train)\n",
    "svm.score(X_train, y_train), svm.score(X_test, y_test)"
   ]
  },
  {
   "cell_type": "markdown",
   "metadata": {
    "id": "pAz24TQdy7RG"
   },
   "source": [
    "As we can see there is a very small difference in score between the Test and the Training set. This means that there was little over or underfitting as observed. However we also want to look at the unseen data with a confusion matrix. "
   ]
  },
  {
   "cell_type": "code",
   "execution_count": 36,
   "metadata": {
    "colab": {
     "base_uri": "https://localhost:8080/",
     "height": 334
    },
    "id": "7xqY1xWl9u9D",
    "outputId": "6574654c-f7d4-4134-a3bb-4f4e99c54667"
   },
   "outputs": [
    {
     "name": "stderr",
     "output_type": "stream",
     "text": [
      "/Users/joycelynng/opt/anaconda3/lib/python3.9/site-packages/sklearn/utils/deprecation.py:87: FutureWarning: Function plot_confusion_matrix is deprecated; Function `plot_confusion_matrix` is deprecated in 1.0 and will be removed in 1.2. Use one of the class methods: ConfusionMatrixDisplay.from_predictions or ConfusionMatrixDisplay.from_estimator.\n",
      "  warnings.warn(msg, category=FutureWarning)\n"
     ]
    },
    {
     "data": {
      "image/png": "[encoded data removed]",
      "text/plain": [
       "<Figure size 432x288 with 2 Axes>"
      ]
     },
     "metadata": {
      "needs_background": "light"
     },
     "output_type": "display_data"
    }
   ],
   "source": [
    "plot_confusion_matrix(svm, X_test, y_test, display_labels= ['Adelie','Chinstrap','Gentoo'], cmap = plt.cm.Purples);"
   ]
  },
  {
   "cell_type": "markdown",
   "metadata": {
    "id": "BSQ0P8KczKHn"
   },
   "source": [
    "As seen our model is fairly accurate with only 1 of each species being displaced. By using this to validate the performance of the model we see that it performed well.\n",
    "\n",
    "The visualization shows how accurate the model was, showing how often our predicted label matched the true label for the penguin species. For the Gentoo 19 of the 19 were corretly labeled by the model. For the Chinstrap 12 of the 14 labeled were correctly labeled and 33 of 34 of the Adelie species were labeled correctly. This means that of the 67 possible, 64 were labeled their true species. The model was a little over 95% accurate in predicting the species of penguin. |"
   ]
  },
  {
   "cell_type": "code",
   "execution_count": 37,
   "metadata": {
    "colab": {
     "base_uri": "https://localhost:8080/",
     "height": 945
    },
    "id": "g_CurKqW9w0x",
    "outputId": "21f72281-da12-4c7f-db8f-c051ebb90429"
   },
   "outputs": [
    {
     "name": "stderr",
     "output_type": "stream",
     "text": [
      "/Users/joycelynng/opt/anaconda3/lib/python3.9/site-packages/sklearn/base.py:450: UserWarning: X does not have valid feature names, but SVC was fitted with feature names\n",
      "  warnings.warn(\n",
      "/Users/joycelynng/opt/anaconda3/lib/python3.9/site-packages/sklearn/base.py:450: UserWarning: X does not have valid feature names, but SVC was fitted with feature names\n",
      "  warnings.warn(\n",
      "/Users/joycelynng/opt/anaconda3/lib/python3.9/site-packages/sklearn/base.py:450: UserWarning: X does not have valid feature names, but SVC was fitted with feature names\n",
      "  warnings.warn(\n"
     ]
    },
    {
     "data": {
      "text/plain": [
       "<AxesSubplot:xlabel='Culmen Length (mm)', ylabel='Flipper Length (mm)'>"
      ]
     },
     "execution_count": 37,
     "metadata": {},
     "output_type": "execute_result"
    },
    {
     "data": {
      "image/png": "[encoded data removed]",
      "text/plain": [
       "<Figure size 432x288 with 1 Axes>"
      ]
     },
     "metadata": {
      "needs_background": "light"
     },
     "output_type": "display_data"
    },
    {
     "data": {
      "image/png": "[encoded data removed]",
      "text/plain": [
       "<Figure size 432x288 with 1 Axes>"
      ]
     },
     "metadata": {
      "needs_background": "light"
     },
     "output_type": "display_data"
    },
    {
     "data": {
      "image/png": "[encoded data removed]",
      "text/plain": [
       "<Figure size 432x288 with 1 Axes>"
      ]
     },
     "metadata": {
      "needs_background": "light"
     },
     "output_type": "display_data"
    }
   ],
   "source": [
    "plot_decision_function(svm, test, X_train, y_train)\n",
    "plot_decision_function(svm, dream_penguins, dream_X, dream_y)\n",
    "plot_decision_function(svm, biscoe_penguins, biscoe_X, biscoe_y)"
   ]
  },
  {
   "cell_type": "markdown",
   "metadata": {
    "id": "gt6uVrIEN_xp"
   },
   "source": [
    "Through these decision region graphs we can clearly see that only certain species are on certain islands. For example, Adelie and Chinstrap are the only two species in Dream. Gentoo and Adelie are the only two species on Biscoe. We also decided to plot the the whole test set because there was an error with the fact that we did not have two unique y values when looking at the Torgesen island because only Adelie is on Torgeson which is why we tried to show the split based off of the test set."
   ]
  },
  {
   "cell_type": "markdown",
   "metadata": {
    "id": "paFKXdHE4V7c"
   },
   "source": [
    "## Model 2: Logistical Regression"
   ]
  },
  {
   "cell_type": "code",
   "execution_count": 38,
   "metadata": {
    "colab": {
     "base_uri": "https://localhost:8080/"
    },
    "id": "tZwcMTRUcOgG",
    "outputId": "5cca0109-4ba4-437e-e1da-f83155b9e41d"
   },
   "outputs": [
    {
     "data": {
      "text/plain": [
       "0.9663817663817664"
      ]
     },
     "execution_count": 38,
     "metadata": {},
     "output_type": "execute_result"
    }
   ],
   "source": [
    "LR = LogisticRegression(max_iter = 40000)\n",
    "\n",
    "cv_score = cross_val_score(LR, X_train, y_train, cv=10).mean()\n",
    "cv_score"
   ]
  },
  {
   "cell_type": "markdown",
   "metadata": {
    "id": "4BfKZP4SZxis"
   },
   "source": [
    "With the logistic regression model we saw an accuracy cross validation core of over 96% based on the means of 10 trials. "
   ]
  },
  {
   "cell_type": "code",
   "execution_count": 39,
   "metadata": {
    "id": "gPvuc2gyfPr4"
   },
   "outputs": [],
   "source": [
    "def best_LRCparam(X, y):\n",
    "    '''\n",
    "    Params: \n",
    "      X: Island, Culmen Length (mm), Flipper Length (mm)\n",
    "      y: Species\n",
    "    Returns:\n",
    "      best_C: The best index of the best cross validation score\n",
    "      best_score: the best Cross Validation score\n",
    "    '''\n",
    "    fig, ax = plt.subplots(1)\n",
    "    best_score = 0\n",
    "\n",
    "    for d in range(1, 15):\n",
    "        model = LogisticRegression(max_iter = 40000, C = d)\n",
    "        cv_score = cross_val_score(model, X, y, cv=10).mean()\n",
    "        ax.scatter(d, cv_score, color = \"black\")\n",
    "        \n",
    "        if cv_score > best_score:\n",
    "            best_C = d\n",
    "            best_score = cv_score\n",
    "\n",
    "    ax.set(title = \"Best C: \" + str(best_C), xlabel = \"C\", ylabel = \"CV Score\")\n",
    "    return best_C, best_score"
   ]
  },
  {
   "cell_type": "code",
   "execution_count": 40,
   "metadata": {
    "colab": {
     "base_uri": "https://localhost:8080/",
     "height": 295
    },
    "id": "MB-4MjLBgyCd",
    "outputId": "d6e4db71-47a1-49ef-a6f5-df80cd73ed45"
   },
   "outputs": [
    {
     "data": {
      "image/png": "[encoded data removed]",
      "text/plain": [
       "<Figure size 432x288 with 1 Axes>"
      ]
     },
     "metadata": {
      "needs_background": "light"
     },
     "output_type": "display_data"
    }
   ],
   "source": [
    "best_C, best_score = best_LRCparam(X_train, y_train)"
   ]
  },
  {
   "cell_type": "markdown",
   "metadata": {
    "id": "7V46oB82aH5n"
   },
   "source": [
    "In orer to not recieve errors we did multiple iterations to find the best cross validation score from the model. We needed to do above 200 which is why we chose 40000. The first iteration is the most accurate for the model at over 96%. This means our model generalizes to the whole of the data set fairly well, over 96% accuracy to be more exact. "
   ]
  },
  {
   "cell_type": "code",
   "execution_count": 41,
   "metadata": {
    "colab": {
     "base_uri": "https://localhost:8080/"
    },
    "id": "IFkmakEJhaIV",
    "outputId": "93e5fe20-6036-4a7e-8f8a-87163c255685"
   },
   "outputs": [
    {
     "data": {
      "text/plain": [
       "(0.9661654135338346, 0.9701492537313433)"
      ]
     },
     "execution_count": 41,
     "metadata": {},
     "output_type": "execute_result"
    }
   ],
   "source": [
    "LR = LogisticRegression(C = best_C, max_iter = 40000)\n",
    "LR.fit(X_train, y_train)\n",
    "LR.score(X_train, y_train), LR.score(X_test, y_test)"
   ]
  },
  {
   "cell_type": "markdown",
   "metadata": {
    "id": "RztKlK290kUP"
   },
   "source": [
    "Comparing the train and test scores side by side we see that there is a very small difference between the scores which is essential to not over or underfit the data. "
   ]
  },
  {
   "cell_type": "code",
   "execution_count": 42,
   "metadata": {
    "colab": {
     "base_uri": "https://localhost:8080/"
    },
    "id": "kERZFHeTiWeb",
    "outputId": "df89cddc-e26c-4593-ba30-0749f5bbec20"
   },
   "outputs": [
    {
     "data": {
      "text/plain": [
       "array([[33,  1,  0],\n",
       "       [ 1, 13,  0],\n",
       "       [ 0,  0, 19]])"
      ]
     },
     "execution_count": 42,
     "metadata": {},
     "output_type": "execute_result"
    }
   ],
   "source": [
    "y_test_pred = LR.predict(X_test)\n",
    "c = confusion_matrix(y_test, y_test_pred)\n",
    "c"
   ]
  },
  {
   "cell_type": "markdown",
   "metadata": {
    "id": "r5xbC9ue011k"
   },
   "source": [
    "Again we plotted the confusion matrix in order to observe data that is hidden. Here we see that again only 1 or less of each species was misplaced."
   ]
  },
  {
   "cell_type": "code",
   "execution_count": 43,
   "metadata": {
    "colab": {
     "base_uri": "https://localhost:8080/",
     "height": 351
    },
    "id": "63eoPZX-ilNS",
    "outputId": "a2644d5d-3ce8-4a2c-ebb6-5f58a1f525a9"
   },
   "outputs": [
    {
     "name": "stderr",
     "output_type": "stream",
     "text": [
      "/Users/joycelynng/opt/anaconda3/lib/python3.9/site-packages/sklearn/utils/deprecation.py:87: FutureWarning: Function plot_confusion_matrix is deprecated; Function `plot_confusion_matrix` is deprecated in 1.0 and will be removed in 1.2. Use one of the class methods: ConfusionMatrixDisplay.from_predictions or ConfusionMatrixDisplay.from_estimator.\n",
      "  warnings.warn(msg, category=FutureWarning)\n"
     ]
    },
    {
     "data": {
      "text/plain": [
       "<sklearn.metrics._plot.confusion_matrix.ConfusionMatrixDisplay at 0x7fc022fa3760>"
      ]
     },
     "execution_count": 43,
     "metadata": {},
     "output_type": "execute_result"
    },
    {
     "data": {
      "image/png": "[encoded data removed]",
      "text/plain": [
       "<Figure size 432x288 with 2 Axes>"
      ]
     },
     "metadata": {
      "needs_background": "light"
     },
     "output_type": "display_data"
    }
   ],
   "source": [
    "plot_confusion_matrix(LR, X_test, y_test, display_labels= ['Adelie','Chinstrap','Gentoo'], cmap = plt.cm.Purples)"
   ]
  },
  {
   "cell_type": "markdown",
   "metadata": {
    "id": "QTbCv7fTbhjb"
   },
   "source": [
    "The matrix displays how well the model predicted penguin species compared to the true species label. For the Gentoo, 19 of the 19 were labeled correctly with no errors. For the Chinstrap, 13 of the 14 were labeled accurately with one being labeled incorrectly. As for the Adelie, 33 of the 34 were correctly labeled and one was mislabeled. Overall 65 of the 67 predictions were correct, an accuracy of about 97% indicating that this model was fairly accurate. Compared to the SVM model it is a slight bit more accurate in predicting the species. "
   ]
  },
  {
   "cell_type": "code",
   "execution_count": 44,
   "metadata": {
    "colab": {
     "base_uri": "https://localhost:8080/",
     "height": 945
    },
    "id": "MrKx1LayVM1z",
    "outputId": "c816c213-7093-46a1-8527-36c71498a520"
   },
   "outputs": [
    {
     "name": "stderr",
     "output_type": "stream",
     "text": [
      "/Users/joycelynng/opt/anaconda3/lib/python3.9/site-packages/sklearn/base.py:450: UserWarning: X does not have valid feature names, but LogisticRegression was fitted with feature names\n",
      "  warnings.warn(\n",
      "/Users/joycelynng/opt/anaconda3/lib/python3.9/site-packages/sklearn/base.py:450: UserWarning: X does not have valid feature names, but LogisticRegression was fitted with feature names\n",
      "  warnings.warn(\n",
      "/Users/joycelynng/opt/anaconda3/lib/python3.9/site-packages/sklearn/base.py:450: UserWarning: X does not have valid feature names, but LogisticRegression was fitted with feature names\n",
      "  warnings.warn(\n"
     ]
    },
    {
     "data": {
      "text/plain": [
       "<AxesSubplot:xlabel='Culmen Length (mm)', ylabel='Flipper Length (mm)'>"
      ]
     },
     "execution_count": 44,
     "metadata": {},
     "output_type": "execute_result"
    },
    {
     "data": {
      "image/png": "[encoded data removed]",
      "text/plain": [
       "<Figure size 432x288 with 1 Axes>"
      ]
     },
     "metadata": {
      "needs_background": "light"
     },
     "output_type": "display_data"
    },
    {
     "data": {
      "image/png": "[encoded data removed]",
      "text/plain": [
       "<Figure size 432x288 with 1 Axes>"
      ]
     },
     "metadata": {
      "needs_background": "light"
     },
     "output_type": "display_data"
    },
    {
     "data": {
      "image/png": "[encoded data removed]",
      "text/plain": [
       "<Figure size 432x288 with 1 Axes>"
      ]
     },
     "metadata": {
      "needs_background": "light"
     },
     "output_type": "display_data"
    }
   ],
   "source": [
    "plot_decision_function(LR, test, X_test, y_test)\n",
    "plot_decision_function(LR, dream_penguins, dream_X, dream_y)\n",
    "plot_decision_function(LR, biscoe_penguins, biscoe_X, biscoe_y)"
   ]
  },
  {
   "cell_type": "markdown",
   "metadata": {
    "id": "Ad-s1gqD1G-K"
   },
   "source": [
    "These decision regions closely model the same as the decision regions for the SVM model which means that both methods are good for predicting the target variable. This also means that we had greater precision in predicting the Species."
   ]
  },
  {
   "cell_type": "markdown",
   "metadata": {
    "id": "BhIOicGf4alA"
   },
   "source": [
    "## Model 3: Near Neighbor Classifers"
   ]
  },
  {
   "cell_type": "code",
   "execution_count": 45,
   "metadata": {
    "id": "-InBKM0Z3mb7"
   },
   "outputs": [],
   "source": [
    "def best_Depthparam(X, y):\n",
    "    '''\n",
    "    Params: \n",
    "      X: Island, Culmen Length (mm), Flipper Length (mm)\n",
    "      y: Species\n",
    "    Returns:\n",
    "      best_depth: The best index of the best depth score\n",
    "      best_score: the best Cross Validation score\n",
    "    '''\n",
    "    fig, ax = plt.subplots(1)\n",
    "    best_score = 0\n",
    "\n",
    "    for d in range(1,30):\n",
    "        model = KNeighborsClassifier(n_neighbors = d)\n",
    "        cv_score = cross_val_score(model, X, y, cv=10).mean()\n",
    "        ax.scatter(d, cv_score, color = \"black\")\n",
    "        \n",
    "        if cv_score > best_score:\n",
    "            best_depth = d\n",
    "            best_score = cv_score\n",
    "\n",
    "    ax.set(title = \"Best Depth : \" + str(best_depth), xlabel = \"Depth\", ylabel = \"CV Score\")\n",
    "    return best_depth, best_score"
   ]
  },
  {
   "cell_type": "markdown",
   "metadata": {
    "id": "RI61rGzWduoH"
   },
   "source": [
    "In terms of the Depth parameter for the logistic model we performed multiple iterations and compared 10 cross validaitions in each loop to determine the mean then plotted it. Again similar to before we initialized the best score as 0 and then compared the cv score to the current best score to see which one is better."
   ]
  },
  {
   "cell_type": "code",
   "execution_count": 46,
   "metadata": {
    "colab": {
     "base_uri": "https://localhost:8080/",
     "height": 295
    },
    "id": "u991SIh5XLj5",
    "outputId": "cea2a3ba-12f9-42e7-eb42-d01da42fbe6d"
   },
   "outputs": [
    {
     "data": {
      "image/png": "[encoded data removed]",
      "text/plain": [
       "<Figure size 432x288 with 1 Axes>"
      ]
     },
     "metadata": {
      "needs_background": "light"
     },
     "output_type": "display_data"
    }
   ],
   "source": [
    "best_depth, best_score = best_Depthparam(X_train, y_train)"
   ]
  },
  {
   "cell_type": "markdown",
   "metadata": {
    "id": "c1ughSjF2A5x"
   },
   "source": [
    "As we can see in this one the best Depth is 3. However in this plot the CV scores seem to vary more. Therefore we have to look at the test and the training set to see the difference."
   ]
  },
  {
   "cell_type": "code",
   "execution_count": 47,
   "metadata": {
    "colab": {
     "base_uri": "https://localhost:8080/"
    },
    "id": "PpVubsqNUvmJ",
    "outputId": "644b5dc2-9638-46c6-897d-4b6362d6db87"
   },
   "outputs": [
    {
     "data": {
      "text/plain": [
       "(0.9699248120300752, 0.9552238805970149)"
      ]
     },
     "execution_count": 47,
     "metadata": {},
     "output_type": "execute_result"
    }
   ],
   "source": [
    "KNC = KNeighborsClassifier(n_neighbors = best_depth)\n",
    "KNC.fit(X_train, y_train)\n",
    "KNC.score(X_train, y_train), KNC.score(X_test, y_test)"
   ]
  },
  {
   "cell_type": "markdown",
   "metadata": {
    "id": "kbQ5HH06gQs_"
   },
   "source": [
    "The train and test scores are fairly close to one another but not as close as the two previous models. The other two models had scores within one percent of one another, even lower than that. While this model has scores that are over 1% almost near 2% from one another. The train score being almost 97% and the test score being about 95.5%. The numbers are still close to one another so we do not believe overfitting is an issue."
   ]
  },
  {
   "cell_type": "code",
   "execution_count": 48,
   "metadata": {
    "colab": {
     "base_uri": "https://localhost:8080/"
    },
    "id": "gFknSEujU05N",
    "outputId": "93654104-0d59-426d-8ed7-dd6a6371d971"
   },
   "outputs": [
    {
     "data": {
      "text/plain": [
       "array([[33,  1,  0],\n",
       "       [ 1, 12,  1],\n",
       "       [ 0,  0, 19]])"
      ]
     },
     "execution_count": 48,
     "metadata": {},
     "output_type": "execute_result"
    }
   ],
   "source": [
    "y_test_pred = KNC.predict(X_test)\n",
    "c = confusion_matrix(y_test, y_test_pred)\n",
    "c"
   ]
  },
  {
   "cell_type": "code",
   "execution_count": 49,
   "metadata": {
    "colab": {
     "base_uri": "https://localhost:8080/",
     "height": 334
    },
    "id": "XGReq8pRU2ir",
    "outputId": "147e6aae-854d-4507-f873-7dea37d97af0"
   },
   "outputs": [
    {
     "name": "stderr",
     "output_type": "stream",
     "text": [
      "/Users/joycelynng/opt/anaconda3/lib/python3.9/site-packages/sklearn/utils/deprecation.py:87: FutureWarning: Function plot_confusion_matrix is deprecated; Function `plot_confusion_matrix` is deprecated in 1.0 and will be removed in 1.2. Use one of the class methods: ConfusionMatrixDisplay.from_predictions or ConfusionMatrixDisplay.from_estimator.\n",
      "  warnings.warn(msg, category=FutureWarning)\n"
     ]
    },
    {
     "data": {
      "image/png": "[encoded data removed]",
      "text/plain": [
       "<Figure size 432x288 with 2 Axes>"
      ]
     },
     "metadata": {
      "needs_background": "light"
     },
     "output_type": "display_data"
    }
   ],
   "source": [
    "plot_confusion_matrix(KNC, X_test, y_test, display_labels= ['Adelie','Chinstrap','Gentoo'], cmap = plt.cm.Purples);"
   ]
  },
  {
   "cell_type": "markdown",
   "metadata": {
    "id": "Lq34nOSqhGs3"
   },
   "source": [
    "This model, like the other two, correctly predicted all 19 species of Gentoo with no mistakes. For Chinstrap it correctly labeled 12 of the 14 and for Adelie it correctly labeled 33 of the 34. This is nearly identical to the SVM model which had the same level of accuracy, predicting 64 of the 67 true labels correctly and missing on 3 of them. Overall the model is pretty accurate, but the logistic regression model was slightly more accurate than both the other two models. "
   ]
  },
  {
   "cell_type": "code",
   "execution_count": 50,
   "metadata": {
    "colab": {
     "base_uri": "https://localhost:8080/",
     "height": 945
    },
    "id": "yHLnVawGU461",
    "outputId": "fbd09425-e03e-495f-f714-0a83da547627"
   },
   "outputs": [
    {
     "name": "stderr",
     "output_type": "stream",
     "text": [
      "/Users/joycelynng/opt/anaconda3/lib/python3.9/site-packages/sklearn/base.py:450: UserWarning: X does not have valid feature names, but KNeighborsClassifier was fitted with feature names\n",
      "  warnings.warn(\n",
      "/Users/joycelynng/opt/anaconda3/lib/python3.9/site-packages/sklearn/base.py:450: UserWarning: X does not have valid feature names, but KNeighborsClassifier was fitted with feature names\n",
      "  warnings.warn(\n",
      "/Users/joycelynng/opt/anaconda3/lib/python3.9/site-packages/sklearn/base.py:450: UserWarning: X does not have valid feature names, but KNeighborsClassifier was fitted with feature names\n",
      "  warnings.warn(\n"
     ]
    },
    {
     "data": {
      "text/plain": [
       "<AxesSubplot:xlabel='Culmen Length (mm)', ylabel='Flipper Length (mm)'>"
      ]
     },
     "execution_count": 50,
     "metadata": {},
     "output_type": "execute_result"
    },
    {
     "data": {
      "image/png": "[encoded data removed]",
      "text/plain": [
       "<Figure size 432x288 with 1 Axes>"
      ]
     },
     "metadata": {
      "needs_background": "light"
     },
     "output_type": "display_data"
    },
    {
     "data": {
      "image/png": "[encoded data removed]",
      "text/plain": [
       "<Figure size 432x288 with 1 Axes>"
      ]
     },
     "metadata": {
      "needs_background": "light"
     },
     "output_type": "display_data"
    },
    {
     "data": {
      "image/png": "[encoded data removed]",
      "text/plain": [
       "<Figure size 432x288 with 1 Axes>"
      ]
     },
     "metadata": {
      "needs_background": "light"
     },
     "output_type": "display_data"
    }
   ],
   "source": [
    "plot_decision_function(KNC, test, X_test, y_test)\n",
    "plot_decision_function(KNC, dream_penguins, dream_X, dream_y)\n",
    "plot_decision_function(KNC, biscoe_penguins, biscoe_X, biscoe_y)"
   ]
  },
  {
   "cell_type": "markdown",
   "metadata": {
    "id": "rFbWGGba28m1"
   },
   "source": [
    "As we can see in these decision regions it is a lot more jagged than the last two models. However very few were misplaced so we believe that after these three models the variables that we chose were the best ones."
   ]
  },
  {
   "cell_type": "markdown",
   "metadata": {
    "id": "Q3PVDcKnVSUi"
   },
   "source": [
    "# Discussion"
   ]
  },
  {
   "cell_type": "markdown",
   "metadata": {
    "id": "1_krw7pwh22g"
   },
   "source": [
    "  We recommend choosing Island, Flipper Length, and Culmen Length as predictor variables of penguin species as we believe that this yields the highest accuracy.\n",
    "  \n",
    "  The models themselves were, for the most part, greatly accurate in identifying the species of penguin based on Island, Flipper length, and Culmen Length. The logistic regression model was the most accurate as it only misidentified two of the species out of a total of 67. The SVM model and Near Neighbor Classifier were also very accurate but both misidentified one more of the species than the logistic regression model. The logistic regression model identified 65 correctly while the other two identified 64 correctly. All models weres able to correctly identify all of the Gentoo species based on the variables used. The logistic regression model was close to identifying all of the Chinstrap species but misidentified one, whereas the other two models misidenitified 2 Chinstrap species. All of the models performed the same when identifying the Adelie species, identifying 33 out of 34. There seems to be no problem at all distinguishing the Gentoo based on the varaibles given but there are some mistakes, albeit very few, when identifying the Chinstrap and Adelie species. This appears to be where the models fall short slightly. While they are all very accurate this is an area where improvement could be made. Looking at these individual cases would give us a better understanding of where the models fail and make these incorrect labels. \n",
    "  \n",
    "  When looking at one of Chinstrap data points that was incorrectly labeled Adelie, it is an outlier from the rest of the data points. The penguin's culmen length is slightly under 41 mm while the rest have an average culmen length of about 47.5 mm. This specific penguin had a culmen much shorter than the typical Chinstrap. This shows how outliers can affect the set but luckily for ours it did not affect our prediciton models that much. \n",
    "\n",
    "Training with more data points may also help us avoid overfitting. The data set is relatively small compared to the true population of penguins. The most important part is to mitigate as much bias as possible when collecting the data. Since this is such a small data set it would likely fail in the real world especially with the numerous species of penguins that exist if we were to add more species and islands. \n"
   ]
  },
  {
   "cell_type": "code",
   "execution_count": null,
   "metadata": {
    "id": "2pTh9ruM8yTd"
   },
   "outputs": [],
   "source": []
  }
 ],
 "metadata": {
  "colab": {
   "collapsed_sections": [
    "J52Xlku53jMA"
   ],
   "provenance": []
  },
  "kernelspec": {
   "display_name": "Python 3 (ipykernel)",
   "language": "python",
   "name": "python3"
  },
  "language_info": {
   "codemirror_mode": {
    "name": "ipython",
    "version": 3
   },
   "file_extension": ".py",
   "mimetype": "text/x-python",
   "name": "python",
   "nbconvert_exporter": "python",
   "pygments_lexer": "ipython3",
   "version": "3.9.12"
  }
 },
 "nbformat": 4,
 "nbformat_minor": 1
}
